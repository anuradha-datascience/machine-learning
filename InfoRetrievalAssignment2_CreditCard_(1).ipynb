{
  "cells": [
    {
      "cell_type": "markdown",
      "metadata": {
        "id": "view-in-github",
        "colab_type": "text"
      },
      "source": [
        "<a href=\"https://colab.research.google.com/github/anuradha-datascience/machine-learning/blob/main/InfoRetrievalAssignment2_CreditCard_(1).ipynb\" target=\"_parent\"><img src=\"https://colab.research.google.com/assets/colab-badge.svg\" alt=\"Open In Colab\"/></a>"
      ]
    },
    {
      "cell_type": "markdown",
      "id": "59a92769-2112-4b97-8ff9-c1df08e819e1",
      "metadata": {
        "jp-MarkdownHeadingCollapsed": true,
        "id": "59a92769-2112-4b97-8ff9-c1df08e819e1"
      },
      "source": [
        "# Assignment Details\n",
        "\n",
        "**Assignment** : Evaluation of Classification Algorithms on Imbalanced Data\n",
        "\n",
        "**A**\n",
        "\n",
        "Search for a dataset containing imbalanced classes for classification analysis. -2 marks\n",
        "\n",
        "****\n",
        "\n",
        "- a Implement Python functions to handle class imbalance and train classifiers such as Naive Bayes and KNN on the imbalanced dataset. Evaluate the classifiers using performance metrics adjusted for imbalanced data, such as F1-score, precision-recall curves, and ROC-AUC. -4 marks\n",
        "\n",
        "- b Discuss the challenges of dealing with imbalanced data in classification tasks and compare the performance of Naive Bayes and KNN classifiers in handling imbalanced datasets. -4 marks"
      ]
    },
    {
      "cell_type": "markdown",
      "id": "bb02f100-d451-406f-825c-c44587ce1cdc",
      "metadata": {
        "id": "bb02f100-d451-406f-825c-c44587ce1cdc"
      },
      "source": [
        "# Task A\n",
        "- Search for a dataset containing imbalanced classes for classification analysis\n"
      ]
    },
    {
      "cell_type": "markdown",
      "id": "5573b005-f087-4c53-96dc-ef258a57dec3",
      "metadata": {
        "id": "5573b005-f087-4c53-96dc-ef258a57dec3"
      },
      "source": [
        "# About Dataset\n",
        "https://www.kaggle.com/datasets/mlg-ulb/creditcardfraud\n",
        "\n",
        "##\n",
        "Context\n",
        "It is important that credit card companies are able to recognize fraudulent credit card transactions so that customers are not charged for items that they did not purchase.##\n",
        "\n",
        "Content\n",
        "The dataset contains transactions made by credit cards in September 2013 by European cardholders.\n",
        "This dataset presents transactions that occurred in two days, where we have 492 frauds out of 284,807 transactions. The dataset is highly unbalanced, the positive class (frauds) account for 0.172% of all transactions.\n",
        "\n",
        "It contains only numerical input variables which are the result of a PCA transformation. Unfortunately, due to confidentiality issues, we cannot provide the original features and more background information about the data. Features V1, V2, … V28 are the principal components obtained with PCA, the only features which have not been transformed with PCA are 'Time' and 'Amount'. Feature 'Time' contains the seconds elapsed between each transaction and the first transaction in the dataset. The feature 'Amount' is the transaction Amount, this feature can be used for example-dependant cost-sensitive learning. Feature 'Class' is the response variable and it takes value 1 in case of fraud and 0 othifition.\n",
        "\n"
      ]
    },
    {
      "cell_type": "markdown",
      "id": "d294723e-c1e2-4bab-b16d-f5d96463e01d",
      "metadata": {
        "id": "d294723e-c1e2-4bab-b16d-f5d96463e01d"
      },
      "source": [
        "# Import Libraries\n"
      ]
    },
    {
      "cell_type": "code",
      "execution_count": 1,
      "id": "9003f931-f065-403a-8f67-bde4b486f897",
      "metadata": {
        "id": "9003f931-f065-403a-8f67-bde4b486f897"
      },
      "outputs": [],
      "source": [
        "import warnings\n",
        "warnings.filterwarnings('ignore')\n",
        "# Data Manipulation , explore\n",
        "import pandas as pd\n",
        "import numpy as np\n",
        "\n",
        "#visualize\n",
        "import matplotlib.pyplot as plt\n",
        "import seaborn as sns\n",
        "\n",
        "#Modelling\n",
        "from sklearn.model_selection import train_test_split\n",
        "from sklearn.naive_bayes import GaussianNB\n",
        "from sklearn.neighbors import KNeighborsClassifier\n",
        "\n",
        "# Data Balancing\n",
        "from imblearn.over_sampling import SMOTE\n",
        "\n",
        "# Performance Metrics\n",
        "from sklearn.metrics import accuracy_score, precision_score, recall_score, f1_score, roc_auc_score\n",
        "from sklearn.metrics import classification_report, confusion_matrix,accuracy_score,roc_auc_score\n"
      ]
    },
    {
      "cell_type": "markdown",
      "id": "48ae44f5-cd71-4c83-90f7-0b89487969f6",
      "metadata": {
        "id": "48ae44f5-cd71-4c83-90f7-0b89487969f6"
      },
      "source": [
        "# Load Data"
      ]
    },
    {
      "cell_type": "code",
      "execution_count": 2,
      "id": "527381b7-a753-47ea-974a-2c1933853f70",
      "metadata": {
        "colab": {
          "base_uri": "https://localhost:8080/",
          "height": 255
        },
        "id": "527381b7-a753-47ea-974a-2c1933853f70",
        "outputId": "c2c63827-55bc-4d89-d190-0686fa56c0df"
      },
      "outputs": [
        {
          "output_type": "execute_result",
          "data": {
            "text/plain": [
              "        Time        V1        V2        V3        V4        V5        V6  \\\n",
              "8295   11080  1.372983 -0.382354  0.064602 -0.677002 -0.398106  0.039571   \n",
              "11861  20389  1.048919 -0.047160  0.505764  0.857389 -0.405459 -0.470953   \n",
              "10493  17213  1.106035  0.587239  0.305717  2.475219  0.469112  0.316009   \n",
              "10714  18135 -0.000480  0.990282  1.279442  1.116650  0.217364 -0.235042   \n",
              "19815  30572 -0.854468  0.535924  1.981587  1.287696  0.326596 -0.593150   \n",
              "\n",
              "             V7        V8        V9  ...       V21       V22       V23  \\\n",
              "8295  -0.896465 -0.051860  0.388561  ...  0.114647  0.482646 -0.290577   \n",
              "11861 -0.066600 -0.107679  1.483286  ... -0.339526 -0.953202  0.113428   \n",
              "10493  0.118873  0.028228  0.186603  ... -0.131572 -0.232906 -0.080202   \n",
              "10714  0.175045 -0.021591  0.419659  ... -0.301278 -0.640107  0.036930   \n",
              "19815  0.193623  0.167511 -0.571410  ...  0.192270  0.397359 -0.215004   \n",
              "\n",
              "            V24       V25       V26       V27       V28  Amount  Class  \n",
              "8295  -0.918547  0.596859 -0.073305  0.003622  0.020262   39.00    0.0  \n",
              "11861 -0.017943  0.051567  0.079935 -0.063200  0.022186   89.99    0.0  \n",
              "10493 -0.384346  0.504135 -0.000512 -0.049493 -0.004291   27.84    0.0  \n",
              "10714 -0.089333 -0.645966  0.235981  0.049853  0.066462    0.99    0.0  \n",
              "19815  0.372348  0.295123 -0.084340  0.074722  0.083962    1.00    0.0  \n",
              "\n",
              "[5 rows x 31 columns]"
            ],
            "text/html": [
              "\n",
              "  <div id=\"df-63c3c0c5-3c92-45a9-b39a-741c7f0cc705\" class=\"colab-df-container\">\n",
              "    <div>\n",
              "<style scoped>\n",
              "    .dataframe tbody tr th:only-of-type {\n",
              "        vertical-align: middle;\n",
              "    }\n",
              "\n",
              "    .dataframe tbody tr th {\n",
              "        vertical-align: top;\n",
              "    }\n",
              "\n",
              "    .dataframe thead th {\n",
              "        text-align: right;\n",
              "    }\n",
              "</style>\n",
              "<table border=\"1\" class=\"dataframe\">\n",
              "  <thead>\n",
              "    <tr style=\"text-align: right;\">\n",
              "      <th></th>\n",
              "      <th>Time</th>\n",
              "      <th>V1</th>\n",
              "      <th>V2</th>\n",
              "      <th>V3</th>\n",
              "      <th>V4</th>\n",
              "      <th>V5</th>\n",
              "      <th>V6</th>\n",
              "      <th>V7</th>\n",
              "      <th>V8</th>\n",
              "      <th>V9</th>\n",
              "      <th>...</th>\n",
              "      <th>V21</th>\n",
              "      <th>V22</th>\n",
              "      <th>V23</th>\n",
              "      <th>V24</th>\n",
              "      <th>V25</th>\n",
              "      <th>V26</th>\n",
              "      <th>V27</th>\n",
              "      <th>V28</th>\n",
              "      <th>Amount</th>\n",
              "      <th>Class</th>\n",
              "    </tr>\n",
              "  </thead>\n",
              "  <tbody>\n",
              "    <tr>\n",
              "      <th>8295</th>\n",
              "      <td>11080</td>\n",
              "      <td>1.372983</td>\n",
              "      <td>-0.382354</td>\n",
              "      <td>0.064602</td>\n",
              "      <td>-0.677002</td>\n",
              "      <td>-0.398106</td>\n",
              "      <td>0.039571</td>\n",
              "      <td>-0.896465</td>\n",
              "      <td>-0.051860</td>\n",
              "      <td>0.388561</td>\n",
              "      <td>...</td>\n",
              "      <td>0.114647</td>\n",
              "      <td>0.482646</td>\n",
              "      <td>-0.290577</td>\n",
              "      <td>-0.918547</td>\n",
              "      <td>0.596859</td>\n",
              "      <td>-0.073305</td>\n",
              "      <td>0.003622</td>\n",
              "      <td>0.020262</td>\n",
              "      <td>39.00</td>\n",
              "      <td>0.0</td>\n",
              "    </tr>\n",
              "    <tr>\n",
              "      <th>11861</th>\n",
              "      <td>20389</td>\n",
              "      <td>1.048919</td>\n",
              "      <td>-0.047160</td>\n",
              "      <td>0.505764</td>\n",
              "      <td>0.857389</td>\n",
              "      <td>-0.405459</td>\n",
              "      <td>-0.470953</td>\n",
              "      <td>-0.066600</td>\n",
              "      <td>-0.107679</td>\n",
              "      <td>1.483286</td>\n",
              "      <td>...</td>\n",
              "      <td>-0.339526</td>\n",
              "      <td>-0.953202</td>\n",
              "      <td>0.113428</td>\n",
              "      <td>-0.017943</td>\n",
              "      <td>0.051567</td>\n",
              "      <td>0.079935</td>\n",
              "      <td>-0.063200</td>\n",
              "      <td>0.022186</td>\n",
              "      <td>89.99</td>\n",
              "      <td>0.0</td>\n",
              "    </tr>\n",
              "    <tr>\n",
              "      <th>10493</th>\n",
              "      <td>17213</td>\n",
              "      <td>1.106035</td>\n",
              "      <td>0.587239</td>\n",
              "      <td>0.305717</td>\n",
              "      <td>2.475219</td>\n",
              "      <td>0.469112</td>\n",
              "      <td>0.316009</td>\n",
              "      <td>0.118873</td>\n",
              "      <td>0.028228</td>\n",
              "      <td>0.186603</td>\n",
              "      <td>...</td>\n",
              "      <td>-0.131572</td>\n",
              "      <td>-0.232906</td>\n",
              "      <td>-0.080202</td>\n",
              "      <td>-0.384346</td>\n",
              "      <td>0.504135</td>\n",
              "      <td>-0.000512</td>\n",
              "      <td>-0.049493</td>\n",
              "      <td>-0.004291</td>\n",
              "      <td>27.84</td>\n",
              "      <td>0.0</td>\n",
              "    </tr>\n",
              "    <tr>\n",
              "      <th>10714</th>\n",
              "      <td>18135</td>\n",
              "      <td>-0.000480</td>\n",
              "      <td>0.990282</td>\n",
              "      <td>1.279442</td>\n",
              "      <td>1.116650</td>\n",
              "      <td>0.217364</td>\n",
              "      <td>-0.235042</td>\n",
              "      <td>0.175045</td>\n",
              "      <td>-0.021591</td>\n",
              "      <td>0.419659</td>\n",
              "      <td>...</td>\n",
              "      <td>-0.301278</td>\n",
              "      <td>-0.640107</td>\n",
              "      <td>0.036930</td>\n",
              "      <td>-0.089333</td>\n",
              "      <td>-0.645966</td>\n",
              "      <td>0.235981</td>\n",
              "      <td>0.049853</td>\n",
              "      <td>0.066462</td>\n",
              "      <td>0.99</td>\n",
              "      <td>0.0</td>\n",
              "    </tr>\n",
              "    <tr>\n",
              "      <th>19815</th>\n",
              "      <td>30572</td>\n",
              "      <td>-0.854468</td>\n",
              "      <td>0.535924</td>\n",
              "      <td>1.981587</td>\n",
              "      <td>1.287696</td>\n",
              "      <td>0.326596</td>\n",
              "      <td>-0.593150</td>\n",
              "      <td>0.193623</td>\n",
              "      <td>0.167511</td>\n",
              "      <td>-0.571410</td>\n",
              "      <td>...</td>\n",
              "      <td>0.192270</td>\n",
              "      <td>0.397359</td>\n",
              "      <td>-0.215004</td>\n",
              "      <td>0.372348</td>\n",
              "      <td>0.295123</td>\n",
              "      <td>-0.084340</td>\n",
              "      <td>0.074722</td>\n",
              "      <td>0.083962</td>\n",
              "      <td>1.00</td>\n",
              "      <td>0.0</td>\n",
              "    </tr>\n",
              "  </tbody>\n",
              "</table>\n",
              "<p>5 rows × 31 columns</p>\n",
              "</div>\n",
              "    <div class=\"colab-df-buttons\">\n",
              "\n",
              "  <div class=\"colab-df-container\">\n",
              "    <button class=\"colab-df-convert\" onclick=\"convertToInteractive('df-63c3c0c5-3c92-45a9-b39a-741c7f0cc705')\"\n",
              "            title=\"Convert this dataframe to an interactive table.\"\n",
              "            style=\"display:none;\">\n",
              "\n",
              "  <svg xmlns=\"http://www.w3.org/2000/svg\" height=\"24px\" viewBox=\"0 -960 960 960\">\n",
              "    <path d=\"M120-120v-720h720v720H120Zm60-500h600v-160H180v160Zm220 220h160v-160H400v160Zm0 220h160v-160H400v160ZM180-400h160v-160H180v160Zm440 0h160v-160H620v160ZM180-180h160v-160H180v160Zm440 0h160v-160H620v160Z\"/>\n",
              "  </svg>\n",
              "    </button>\n",
              "\n",
              "  <style>\n",
              "    .colab-df-container {\n",
              "      display:flex;\n",
              "      gap: 12px;\n",
              "    }\n",
              "\n",
              "    .colab-df-convert {\n",
              "      background-color: #E8F0FE;\n",
              "      border: none;\n",
              "      border-radius: 50%;\n",
              "      cursor: pointer;\n",
              "      display: none;\n",
              "      fill: #1967D2;\n",
              "      height: 32px;\n",
              "      padding: 0 0 0 0;\n",
              "      width: 32px;\n",
              "    }\n",
              "\n",
              "    .colab-df-convert:hover {\n",
              "      background-color: #E2EBFA;\n",
              "      box-shadow: 0px 1px 2px rgba(60, 64, 67, 0.3), 0px 1px 3px 1px rgba(60, 64, 67, 0.15);\n",
              "      fill: #174EA6;\n",
              "    }\n",
              "\n",
              "    .colab-df-buttons div {\n",
              "      margin-bottom: 4px;\n",
              "    }\n",
              "\n",
              "    [theme=dark] .colab-df-convert {\n",
              "      background-color: #3B4455;\n",
              "      fill: #D2E3FC;\n",
              "    }\n",
              "\n",
              "    [theme=dark] .colab-df-convert:hover {\n",
              "      background-color: #434B5C;\n",
              "      box-shadow: 0px 1px 3px 1px rgba(0, 0, 0, 0.15);\n",
              "      filter: drop-shadow(0px 1px 2px rgba(0, 0, 0, 0.3));\n",
              "      fill: #FFFFFF;\n",
              "    }\n",
              "  </style>\n",
              "\n",
              "    <script>\n",
              "      const buttonEl =\n",
              "        document.querySelector('#df-63c3c0c5-3c92-45a9-b39a-741c7f0cc705 button.colab-df-convert');\n",
              "      buttonEl.style.display =\n",
              "        google.colab.kernel.accessAllowed ? 'block' : 'none';\n",
              "\n",
              "      async function convertToInteractive(key) {\n",
              "        const element = document.querySelector('#df-63c3c0c5-3c92-45a9-b39a-741c7f0cc705');\n",
              "        const dataTable =\n",
              "          await google.colab.kernel.invokeFunction('convertToInteractive',\n",
              "                                                    [key], {});\n",
              "        if (!dataTable) return;\n",
              "\n",
              "        const docLinkHtml = 'Like what you see? Visit the ' +\n",
              "          '<a target=\"_blank\" href=https://colab.research.google.com/notebooks/data_table.ipynb>data table notebook</a>'\n",
              "          + ' to learn more about interactive tables.';\n",
              "        element.innerHTML = '';\n",
              "        dataTable['output_type'] = 'display_data';\n",
              "        await google.colab.output.renderOutput(dataTable, element);\n",
              "        const docLink = document.createElement('div');\n",
              "        docLink.innerHTML = docLinkHtml;\n",
              "        element.appendChild(docLink);\n",
              "      }\n",
              "    </script>\n",
              "  </div>\n",
              "\n",
              "\n",
              "<div id=\"df-9d2a8766-4989-4b90-aac4-bdcef7f75310\">\n",
              "  <button class=\"colab-df-quickchart\" onclick=\"quickchart('df-9d2a8766-4989-4b90-aac4-bdcef7f75310')\"\n",
              "            title=\"Suggest charts\"\n",
              "            style=\"display:none;\">\n",
              "\n",
              "<svg xmlns=\"http://www.w3.org/2000/svg\" height=\"24px\"viewBox=\"0 0 24 24\"\n",
              "     width=\"24px\">\n",
              "    <g>\n",
              "        <path d=\"M19 3H5c-1.1 0-2 .9-2 2v14c0 1.1.9 2 2 2h14c1.1 0 2-.9 2-2V5c0-1.1-.9-2-2-2zM9 17H7v-7h2v7zm4 0h-2V7h2v10zm4 0h-2v-4h2v4z\"/>\n",
              "    </g>\n",
              "</svg>\n",
              "  </button>\n",
              "\n",
              "<style>\n",
              "  .colab-df-quickchart {\n",
              "      --bg-color: #E8F0FE;\n",
              "      --fill-color: #1967D2;\n",
              "      --hover-bg-color: #E2EBFA;\n",
              "      --hover-fill-color: #174EA6;\n",
              "      --disabled-fill-color: #AAA;\n",
              "      --disabled-bg-color: #DDD;\n",
              "  }\n",
              "\n",
              "  [theme=dark] .colab-df-quickchart {\n",
              "      --bg-color: #3B4455;\n",
              "      --fill-color: #D2E3FC;\n",
              "      --hover-bg-color: #434B5C;\n",
              "      --hover-fill-color: #FFFFFF;\n",
              "      --disabled-bg-color: #3B4455;\n",
              "      --disabled-fill-color: #666;\n",
              "  }\n",
              "\n",
              "  .colab-df-quickchart {\n",
              "    background-color: var(--bg-color);\n",
              "    border: none;\n",
              "    border-radius: 50%;\n",
              "    cursor: pointer;\n",
              "    display: none;\n",
              "    fill: var(--fill-color);\n",
              "    height: 32px;\n",
              "    padding: 0;\n",
              "    width: 32px;\n",
              "  }\n",
              "\n",
              "  .colab-df-quickchart:hover {\n",
              "    background-color: var(--hover-bg-color);\n",
              "    box-shadow: 0 1px 2px rgba(60, 64, 67, 0.3), 0 1px 3px 1px rgba(60, 64, 67, 0.15);\n",
              "    fill: var(--button-hover-fill-color);\n",
              "  }\n",
              "\n",
              "  .colab-df-quickchart-complete:disabled,\n",
              "  .colab-df-quickchart-complete:disabled:hover {\n",
              "    background-color: var(--disabled-bg-color);\n",
              "    fill: var(--disabled-fill-color);\n",
              "    box-shadow: none;\n",
              "  }\n",
              "\n",
              "  .colab-df-spinner {\n",
              "    border: 2px solid var(--fill-color);\n",
              "    border-color: transparent;\n",
              "    border-bottom-color: var(--fill-color);\n",
              "    animation:\n",
              "      spin 1s steps(1) infinite;\n",
              "  }\n",
              "\n",
              "  @keyframes spin {\n",
              "    0% {\n",
              "      border-color: transparent;\n",
              "      border-bottom-color: var(--fill-color);\n",
              "      border-left-color: var(--fill-color);\n",
              "    }\n",
              "    20% {\n",
              "      border-color: transparent;\n",
              "      border-left-color: var(--fill-color);\n",
              "      border-top-color: var(--fill-color);\n",
              "    }\n",
              "    30% {\n",
              "      border-color: transparent;\n",
              "      border-left-color: var(--fill-color);\n",
              "      border-top-color: var(--fill-color);\n",
              "      border-right-color: var(--fill-color);\n",
              "    }\n",
              "    40% {\n",
              "      border-color: transparent;\n",
              "      border-right-color: var(--fill-color);\n",
              "      border-top-color: var(--fill-color);\n",
              "    }\n",
              "    60% {\n",
              "      border-color: transparent;\n",
              "      border-right-color: var(--fill-color);\n",
              "    }\n",
              "    80% {\n",
              "      border-color: transparent;\n",
              "      border-right-color: var(--fill-color);\n",
              "      border-bottom-color: var(--fill-color);\n",
              "    }\n",
              "    90% {\n",
              "      border-color: transparent;\n",
              "      border-bottom-color: var(--fill-color);\n",
              "    }\n",
              "  }\n",
              "</style>\n",
              "\n",
              "  <script>\n",
              "    async function quickchart(key) {\n",
              "      const quickchartButtonEl =\n",
              "        document.querySelector('#' + key + ' button');\n",
              "      quickchartButtonEl.disabled = true;  // To prevent multiple clicks.\n",
              "      quickchartButtonEl.classList.add('colab-df-spinner');\n",
              "      try {\n",
              "        const charts = await google.colab.kernel.invokeFunction(\n",
              "            'suggestCharts', [key], {});\n",
              "      } catch (error) {\n",
              "        console.error('Error during call to suggestCharts:', error);\n",
              "      }\n",
              "      quickchartButtonEl.classList.remove('colab-df-spinner');\n",
              "      quickchartButtonEl.classList.add('colab-df-quickchart-complete');\n",
              "    }\n",
              "    (() => {\n",
              "      let quickchartButtonEl =\n",
              "        document.querySelector('#df-9d2a8766-4989-4b90-aac4-bdcef7f75310 button');\n",
              "      quickchartButtonEl.style.display =\n",
              "        google.colab.kernel.accessAllowed ? 'block' : 'none';\n",
              "    })();\n",
              "  </script>\n",
              "</div>\n",
              "\n",
              "    </div>\n",
              "  </div>\n"
            ],
            "application/vnd.google.colaboratory.intrinsic+json": {
              "type": "dataframe"
            }
          },
          "metadata": {},
          "execution_count": 2
        }
      ],
      "source": [
        "df=pd.read_csv('creditcard.csv')\n",
        "df.sample(5)"
      ]
    },
    {
      "cell_type": "markdown",
      "id": "adf21d29-00a7-4cb1-bd74-a6cf33afbcbb",
      "metadata": {
        "id": "adf21d29-00a7-4cb1-bd74-a6cf33afbcbb"
      },
      "source": [
        "# Validate Data"
      ]
    },
    {
      "cell_type": "code",
      "execution_count": 3,
      "id": "a14460f9-3f51-4708-9898-944f4d3b63ba",
      "metadata": {
        "colab": {
          "base_uri": "https://localhost:8080/",
          "height": 0
        },
        "id": "a14460f9-3f51-4708-9898-944f4d3b63ba",
        "outputId": "af70441e-d526-449c-dcfa-1a1233c42609"
      },
      "outputs": [
        {
          "output_type": "execute_result",
          "data": {
            "text/plain": [
              "(19898, 31)"
            ]
          },
          "metadata": {},
          "execution_count": 3
        }
      ],
      "source": [
        "df.shape"
      ]
    },
    {
      "cell_type": "code",
      "execution_count": 4,
      "id": "b26eb5e1-30d8-424d-b1aa-6bd0bcf94b24",
      "metadata": {
        "colab": {
          "base_uri": "https://localhost:8080/",
          "height": 0
        },
        "id": "b26eb5e1-30d8-424d-b1aa-6bd0bcf94b24",
        "outputId": "b4ae30cc-eb59-4ec4-de9d-ac97bfe8edf9"
      },
      "outputs": [
        {
          "output_type": "stream",
          "name": "stdout",
          "text": [
            "<class 'pandas.core.frame.DataFrame'>\n",
            "RangeIndex: 19898 entries, 0 to 19897\n",
            "Data columns (total 31 columns):\n",
            " #   Column  Non-Null Count  Dtype  \n",
            "---  ------  --------------  -----  \n",
            " 0   Time    19898 non-null  int64  \n",
            " 1   V1      19898 non-null  float64\n",
            " 2   V2      19898 non-null  float64\n",
            " 3   V3      19898 non-null  float64\n",
            " 4   V4      19898 non-null  float64\n",
            " 5   V5      19898 non-null  float64\n",
            " 6   V6      19898 non-null  float64\n",
            " 7   V7      19898 non-null  float64\n",
            " 8   V8      19898 non-null  float64\n",
            " 9   V9      19898 non-null  float64\n",
            " 10  V10     19898 non-null  float64\n",
            " 11  V11     19897 non-null  float64\n",
            " 12  V12     19897 non-null  float64\n",
            " 13  V13     19897 non-null  float64\n",
            " 14  V14     19897 non-null  float64\n",
            " 15  V15     19897 non-null  float64\n",
            " 16  V16     19897 non-null  float64\n",
            " 17  V17     19897 non-null  float64\n",
            " 18  V18     19897 non-null  float64\n",
            " 19  V19     19897 non-null  float64\n",
            " 20  V20     19897 non-null  float64\n",
            " 21  V21     19897 non-null  float64\n",
            " 22  V22     19897 non-null  float64\n",
            " 23  V23     19897 non-null  float64\n",
            " 24  V24     19897 non-null  float64\n",
            " 25  V25     19897 non-null  float64\n",
            " 26  V26     19897 non-null  float64\n",
            " 27  V27     19897 non-null  float64\n",
            " 28  V28     19897 non-null  float64\n",
            " 29  Amount  19897 non-null  float64\n",
            " 30  Class   19897 non-null  float64\n",
            "dtypes: float64(30), int64(1)\n",
            "memory usage: 4.7 MB\n"
          ]
        }
      ],
      "source": [
        "df.info()"
      ]
    },
    {
      "cell_type": "code",
      "execution_count": 5,
      "id": "b6b682e6-b515-4c57-8636-b1b6ced851c0",
      "metadata": {
        "colab": {
          "base_uri": "https://localhost:8080/",
          "height": 0
        },
        "id": "b6b682e6-b515-4c57-8636-b1b6ced851c0",
        "outputId": "15415fde-e093-46af-830b-662bf05efddd"
      },
      "outputs": [
        {
          "output_type": "execute_result",
          "data": {
            "text/plain": [
              "Time      0\n",
              "V1        0\n",
              "V2        0\n",
              "V3        0\n",
              "V4        0\n",
              "V5        0\n",
              "V6        0\n",
              "V7        0\n",
              "V8        0\n",
              "V9        0\n",
              "V10       0\n",
              "V11       1\n",
              "V12       1\n",
              "V13       1\n",
              "V14       1\n",
              "V15       1\n",
              "V16       1\n",
              "V17       1\n",
              "V18       1\n",
              "V19       1\n",
              "V20       1\n",
              "V21       1\n",
              "V22       1\n",
              "V23       1\n",
              "V24       1\n",
              "V25       1\n",
              "V26       1\n",
              "V27       1\n",
              "V28       1\n",
              "Amount    1\n",
              "Class     1\n",
              "dtype: int64"
            ]
          },
          "metadata": {},
          "execution_count": 5
        }
      ],
      "source": [
        "#check for null values\n",
        "df.isnull().sum()"
      ]
    },
    {
      "cell_type": "code",
      "source": [
        "df=df.dropna(axis=0)"
      ],
      "metadata": {
        "id": "k4qPDJJLr0oo"
      },
      "id": "k4qPDJJLr0oo",
      "execution_count": 6,
      "outputs": []
    },
    {
      "cell_type": "markdown",
      "id": "219a00d4-2d92-4e44-8906-39519c58e52c",
      "metadata": {
        "id": "219a00d4-2d92-4e44-8906-39519c58e52c"
      },
      "source": [
        "284807 -Rows, 31 - Columns\n",
        "\n",
        "No Null Data\n",
        "\n",
        "All the columns are numrical in nature - hence no categorical encoding is required"
      ]
    },
    {
      "cell_type": "markdown",
      "id": "84319873-90d3-453e-8c6b-bf17cf2a9143",
      "metadata": {
        "id": "84319873-90d3-453e-8c6b-bf17cf2a9143"
      },
      "source": [
        "## Target Variable Distribution"
      ]
    },
    {
      "cell_type": "markdown",
      "id": "ecb18943-6546-42c8-82d3-14dcc7d8e033",
      "metadata": {
        "id": "ecb18943-6546-42c8-82d3-14dcc7d8e033"
      },
      "source": [
        "### Feature and Target\n",
        "\n",
        "\n"
      ]
    },
    {
      "cell_type": "code",
      "execution_count": 7,
      "id": "a5c0eaa8-bbc6-4d70-bf06-b3588301dd89",
      "metadata": {
        "id": "a5c0eaa8-bbc6-4d70-bf06-b3588301dd89"
      },
      "outputs": [],
      "source": [
        "X=df.iloc[:,:-1]\n",
        "y=df.iloc[:,-1]"
      ]
    },
    {
      "cell_type": "code",
      "execution_count": 8,
      "id": "eb11b8cd-dba2-41b8-bb9a-8d6c3a6e1754",
      "metadata": {
        "colab": {
          "base_uri": "https://localhost:8080/",
          "height": 0
        },
        "id": "eb11b8cd-dba2-41b8-bb9a-8d6c3a6e1754",
        "outputId": "4ce25d84-a02c-468d-b438-da95e2b63d57"
      },
      "outputs": [
        {
          "output_type": "stream",
          "name": "stdout",
          "text": [
            "Percentage of Negative Class: \n",
            "99.573\n",
            "Percentage of Positive Class: \n",
            "0.427\n"
          ]
        }
      ],
      "source": [
        "# Figure out class distribution percentage\n",
        "print(\"Percentage of Negative Class: \")\n",
        "print(round(df['Class'].value_counts()[0]*100/len(df),3))\n",
        "\n",
        "print(\"Percentage of Positive Class: \")\n",
        "print(round(df['Class'].value_counts()[1]*100/len(df),3))"
      ]
    },
    {
      "cell_type": "code",
      "execution_count": 9,
      "id": "2e5e683f-c562-47d0-b0c3-730656013efd",
      "metadata": {
        "id": "2e5e683f-c562-47d0-b0c3-730656013efd"
      },
      "outputs": [],
      "source": [
        "# Define the labels\n",
        "labels = ['Non-Fraud', 'Fraud']"
      ]
    },
    {
      "cell_type": "code",
      "execution_count": 10,
      "id": "3845c29a-fcdf-4949-b522-523bba3c4f1f",
      "metadata": {
        "colab": {
          "base_uri": "https://localhost:8080/",
          "height": 468
        },
        "id": "3845c29a-fcdf-4949-b522-523bba3c4f1f",
        "outputId": "66a7dadd-25df-4c55-b847-561c548afac2"
      },
      "outputs": [
        {
          "output_type": "display_data",
          "data": {
            "text/plain": [
              "<Figure size 600x400 with 1 Axes>"
            ],
            "image/png": "[encoded data removed]"
          },
          "metadata": {}
        }
      ],
      "source": [
        "# Visualize the distribution\n",
        "plt.figure(figsize=(6,4))\n",
        "\n",
        "df['Class'].value_counts().plot(kind='bar')\n",
        "plt.xlabel('Class')\n",
        "plt.ylabel('Frequency')\n",
        "plt.xticks([0,1],labels)\n",
        "plt.title('Distribution of Class')\n",
        "plt.show()"
      ]
    },
    {
      "cell_type": "markdown",
      "id": "fefd49b7-ad18-4df1-87b7-b61644092e63",
      "metadata": {
        "id": "fefd49b7-ad18-4df1-87b7-b61644092e63"
      },
      "source": [
        "**This is highly imbalanced data with majority class 99.827**"
      ]
    },
    {
      "cell_type": "markdown",
      "id": "ff1caef2-8933-43d3-8b00-7a997853f6de",
      "metadata": {
        "id": "ff1caef2-8933-43d3-8b00-7a997853f6de"
      },
      "source": [
        "# Task B\n",
        "**a**\n",
        "- Implement Python functions to handle class imbalance and\n",
        "- train classifiers such as Naive Bayes and KNN on the imbalanced dataset.\n",
        "- Evaluate the classifiers using performance metrics adjusted for imbalanced data, such as F1-score, precision-recall curves, and ROC-AUC.\n"
      ]
    },
    {
      "cell_type": "markdown",
      "id": "9f5b5644-ae22-475a-82cf-889764eec0b7",
      "metadata": {
        "id": "9f5b5644-ae22-475a-82cf-889764eec0b7"
      },
      "source": [
        "## Handle Class Imbalance"
      ]
    },
    {
      "cell_type": "markdown",
      "id": "523a405d-5637-4722-9ee2-73f827942e53",
      "metadata": {
        "id": "523a405d-5637-4722-9ee2-73f827942e53"
      },
      "source": [
        "**Resampling Methods**:\n",
        "\n",
        "- Under-sampling: This involves removing samples from the majority class to balance the dataset. The primary disadvantage of under-sampling is that it may lead to loss of valuable information from the majority class, potentially resulting in an underfit model.\n",
        "\n",
        "- Over-sampling: This technique involves duplicating samples from the minority class or generating synthetic samples to balance the dataset. One disadvantage of over-sampling by duplicating samples is that it can lead to overfitting, where the model may become overly biased towards the minority class.\n",
        "\n",
        "- SMOTE (Synthetic Minority Over-sampling Technique):\n",
        "\n",
        "SMOTE is a popular over-sampling technique that works by generating synthetic samples rather than simply duplicating existing ones. It selects samples from the minority class and creates synthetic examples by interpolating between them. This helps to mitigate the risk of overfitting that can occur with simple duplication. By creating synthetic samples, SMOTE increases the diversity of the minority class, making the model less likely to be biased towards specific patterns present in the origina class imbalance.\n",
        "\n",
        "In this assignment we will be using SMOTE for handling data imbalancing\n",
        "\n",
        "\n"
      ]
    },
    {
      "cell_type": "markdown",
      "id": "c55e1373-4cfa-4ae3-9d2c-9a0b3675c123",
      "metadata": {
        "id": "c55e1373-4cfa-4ae3-9d2c-9a0b3675c123"
      },
      "source": [
        "### Train Test Split\n",
        "\n"
      ]
    },
    {
      "cell_type": "markdown",
      "id": "62fde220-01ca-43a4-b581-a470782f66de",
      "metadata": {
        "id": "62fde220-01ca-43a4-b581-a470782f66de"
      },
      "source": [
        "We need to perform train test split before applying SMOTE so that we apply on train data to smoothen training process but we will not apply SMOTE on test data which represents real world unseen data"
      ]
    },
    {
      "cell_type": "code",
      "execution_count": 11,
      "id": "2623df34-4c3d-4d5e-b6a0-8f01529c2369",
      "metadata": {
        "colab": {
          "base_uri": "https://localhost:8080/",
          "height": 0
        },
        "id": "2623df34-4c3d-4d5e-b6a0-8f01529c2369",
        "outputId": "e1773840-4731-4803-a7a9-ad6b5336f667"
      },
      "outputs": [
        {
          "output_type": "execute_result",
          "data": {
            "text/plain": [
              "((15917, 30), (3980, 30), (15917,), (3980,))"
            ]
          },
          "metadata": {},
          "execution_count": 11
        }
      ],
      "source": [
        "X_train,X_test,y_train,y_test=train_test_split(X,y,test_size=0.2,random_state=100,stratify=y)\n",
        "X_train.shape,X_test.shape,y_train.shape,y_test.shape"
      ]
    },
    {
      "cell_type": "code",
      "source": [
        "# Figure out class distribution percentage\n",
        "print(\"Percentage of Negative Class: \")\n",
        "print(round(y_train.value_counts()[0]*100/len(df),3))\n",
        "\n",
        "print(\"Percentage of Positive Class: \")\n",
        "print(round(y_train.value_counts()[1]*100/len(df),3))"
      ],
      "metadata": {
        "colab": {
          "base_uri": "https://localhost:8080/",
          "height": 0
        },
        "id": "gi028UnKhdCI",
        "outputId": "1987e94f-048d-44d6-eaa2-0e1adca15d6b"
      },
      "id": "gi028UnKhdCI",
      "execution_count": 21,
      "outputs": [
        {
          "output_type": "stream",
          "name": "stdout",
          "text": [
            "Percentage of Negative Class: \n",
            "79.655\n",
            "Percentage of Positive Class: \n",
            "0.342\n"
          ]
        }
      ]
    },
    {
      "cell_type": "code",
      "source": [],
      "metadata": {
        "id": "a9akNBRShoVy"
      },
      "id": "a9akNBRShoVy",
      "execution_count": null,
      "outputs": []
    },
    {
      "cell_type": "markdown",
      "id": "a1c98a3b-a3f3-4276-86b8-d396c634759a",
      "metadata": {
        "id": "a1c98a3b-a3f3-4276-86b8-d396c634759a"
      },
      "source": [
        "## SMOTE"
      ]
    },
    {
      "cell_type": "code",
      "execution_count": 13,
      "id": "df5f54ec-7b63-4ac1-acfd-0c932eb5ed98",
      "metadata": {
        "id": "df5f54ec-7b63-4ac1-acfd-0c932eb5ed98"
      },
      "outputs": [],
      "source": [
        "# pip install -U threadpoolctl\n"
      ]
    },
    {
      "cell_type": "code",
      "execution_count": 19,
      "id": "6ca8970e-c83a-4385-be9f-14dfa92e390b",
      "metadata": {
        "scrolled": true,
        "id": "6ca8970e-c83a-4385-be9f-14dfa92e390b"
      },
      "outputs": [],
      "source": [
        "method=SMOTE(random_state = 42)\n",
        "\n",
        "# Create the resampled data from training data after applying smote\n",
        "X_resampled, y_resampled = method.fit_resample(X_train,y_train)"
      ]
    },
    {
      "cell_type": "code",
      "source": [
        "# Figure out class distribution percentage after SMOTE\n",
        "print(\"Percentage of Negative Class: \")\n",
        "print(round(y_resampled.value_counts()[0]*100/len(df),3))\n",
        "\n",
        "print(\"Percentage of Positive Class: \")\n",
        "print(round(y_resampled.value_counts()[1]*100/len(df),3))"
      ],
      "metadata": {
        "colab": {
          "base_uri": "https://localhost:8080/",
          "height": 0
        },
        "id": "AOB5syWAhsuj",
        "outputId": "46b2d4d6-f1dc-43b4-c7bd-d5ade4d90532"
      },
      "id": "AOB5syWAhsuj",
      "execution_count": 22,
      "outputs": [
        {
          "output_type": "stream",
          "name": "stdout",
          "text": [
            "Percentage of Negative Class: \n",
            "79.655\n",
            "Percentage of Positive Class: \n",
            "79.655\n"
          ]
        }
      ]
    },
    {
      "cell_type": "markdown",
      "id": "8c16d41b-0512-4889-a220-b29f33156dd4",
      "metadata": {
        "id": "8c16d41b-0512-4889-a220-b29f33156dd4"
      },
      "source": [
        "### Compare SMOTE to original Data\n"
      ]
    },
    {
      "cell_type": "code",
      "execution_count": 15,
      "id": "ec23662f-dc55-4e59-a5ad-26418d4989fe",
      "metadata": {
        "colab": {
          "base_uri": "https://localhost:8080/",
          "height": 475
        },
        "id": "ec23662f-dc55-4e59-a5ad-26418d4989fe",
        "outputId": "cd96fadb-fd66-4b3a-f50b-01634265bd59"
      },
      "outputs": [
        {
          "output_type": "display_data",
          "data": {
            "text/plain": [
              "<Figure size 1200x600 with 2 Axes>"
            ],
            "image/png": "[encoded data removed]"
          },
          "metadata": {}
        }
      ],
      "source": [
        "# Compare before and after SMOTE application on sample feature\n",
        "fig, axes = plt.subplots(1, 2, figsize=(12, 6))\n",
        "\n",
        "# Before resampling\n",
        "axes[0].scatter(X_train[y == 0].iloc[:, 1], X_train[y == 0].iloc[:, 2], label=\"Class #0\", alpha=0.5, linewidth=0.15)\n",
        "axes[0].scatter(X_test[y == 1].iloc[:, 1], X_test[y == 1].iloc[:, 2], label=\"Class #1\", alpha=0.5, linewidth=0.15,c='y')\n",
        "axes[0].set_title(\"Before Resampling (\" + \"SMOTE\" + \")\")\n",
        "axes[0].legend()\n",
        "\n",
        "# After resampling\n",
        "axes[1].scatter(X_resampled[y_resampled == 0].iloc[:, 1], X_resampled[y_resampled == 0].iloc[:, 2], label=\"Class #0\", alpha=0.5, linewidth=0.15)\n",
        "axes[1].scatter(X_resampled[y_resampled == 1].iloc[:, 1], X_resampled[y_resampled == 1].iloc[:, 2], label=\"Class #1\", alpha=0.5, linewidth=0.15,c='y')\n",
        "axes[1].set_title(\"After Resampling (\" + \"SMOTE\" + \")\")\n",
        "axes[1].legend()\n",
        "\n",
        "plt.show()"
      ]
    },
    {
      "cell_type": "markdown",
      "id": "caaae4e9-7ce5-4d03-9245-e763e1dbb815",
      "metadata": {
        "id": "caaae4e9-7ce5-4d03-9245-e763e1dbb815"
      },
      "source": [
        "## Modelling\n",
        "\n",
        "Train classifiers such as Naive Bayes and KNN on the imbalanced dataset."
      ]
    },
    {
      "cell_type": "code",
      "execution_count": 16,
      "id": "51def97a-ace2-4a9b-9acc-f214b25c355d",
      "metadata": {
        "id": "51def97a-ace2-4a9b-9acc-f214b25c355d"
      },
      "outputs": [],
      "source": [
        "# Create Naive Bayes classifier\n",
        "nb_classifier = GaussianNB()\n",
        "# Train Naive Bayes classifier\n",
        "nb_classifier.fit(X_resampled, y_resampled)\n",
        "# Predictions for Naive Bayes\n",
        "nb_predictions = nb_classifier.predict(X_test)\n",
        "\n"
      ]
    },
    {
      "cell_type": "code",
      "execution_count": 17,
      "id": "f918d911-322a-4083-85da-3680d05d1d6a",
      "metadata": {
        "id": "f918d911-322a-4083-85da-3680d05d1d6a"
      },
      "outputs": [],
      "source": [
        "# Create KNN classifier\n",
        "knn_classifier = KNeighborsClassifier()\n",
        "\n",
        "# Train KNN classifier\n",
        "knn_classifier.fit(X_resampled, y_resampled)\n",
        "\n",
        "# # Predictions for KNN\n",
        "knn_predictions = knn_classifier.predict(X_test)"
      ]
    },
    {
      "cell_type": "markdown",
      "id": "85436086-1b4c-4ccb-bc17-dd57b42519fb",
      "metadata": {
        "id": "85436086-1b4c-4ccb-bc17-dd57b42519fb"
      },
      "source": [
        "## Performance Evaluation"
      ]
    },
    {
      "cell_type": "markdown",
      "id": "1ee1cd13-fc42-43d7-960b-86559a3242fa",
      "metadata": {
        "id": "1ee1cd13-fc42-43d7-960b-86559a3242fa"
      },
      "source": [
        "**Evaluation Metrics**:\n",
        "\n",
        "When dealing with class imbalance, it's crucial to choose evaluation metrics that are sensitive to the minority class and provide a comprehensive understanding of the model's performance. Some significant evaluation metrics include:\n",
        "\n",
        "- Precision: It measures the proportion of correctly predicted positive cases among all cases predicted as positive. High precision indicates a low false positive rate, which is important in scenarios like fraud detection.\n",
        "\n",
        "- Recall (Sensitivity): It measures the proportion of correctly predicted positive cases among all actual positive cases. High recall indicates a low false negative rate, which is crucial for capturing all instances of the minority class, such as detecting fraud cases.\n",
        "\n",
        "- F1-score: It is the harmonic mean of precision and recall and provides a balanced measure between the two. It's particularly useful when there's an imbalance between precision and recall goals.\n",
        "\n",
        "- Area under the ROC curve (AUC-ROC): This metric evaluates the ability of the model to distinguish between positive and negative classes across different thresholds. A higher AUC-ROC value indicates better model performance in handling class imbalance."
      ]
    },
    {
      "cell_type": "code",
      "execution_count": 23,
      "id": "998d9f0c-4ae5-47dc-b933-83fab458d6c7",
      "metadata": {
        "colab": {
          "base_uri": "https://localhost:8080/",
          "height": 0
        },
        "id": "998d9f0c-4ae5-47dc-b933-83fab458d6c7",
        "outputId": "b3dd8389-0dbd-4dcc-b87e-a2412a6ca6b2"
      },
      "outputs": [
        {
          "output_type": "stream",
          "name": "stdout",
          "text": [
            "Evaluation Metrics for Naive Bayes Classifier:\n",
            "Precision: 0.189873417721519\n",
            "Recall: 0.8823529411764706\n",
            "F1 Score: 0.3125\n",
            "ROC AUC Score: 0.933101779697496\n",
            "\n",
            "Evaluation Metrics for KNN Classifier:\n",
            "Accuracy: 0.9706030150753768\n",
            "Precision: 0.109375\n",
            "Recall: 0.8235294117647058\n",
            "F1 Score: 0.19310344827586207\n",
            "ROC AUC Score: 0.8973816627332234\n"
          ]
        }
      ],
      "source": [
        "# Evaluation metrics for Naive Bayes\n",
        "nb_accuracy = accuracy_score(y_test, nb_predictions)\n",
        "nb_precision = precision_score(y_test, nb_predictions)\n",
        "nb_recall = recall_score(y_test, nb_predictions)\n",
        "nb_f1 = f1_score(y_test, nb_predictions)\n",
        "nb_roc_auc = roc_auc_score(y_test, nb_predictions)\n",
        "\n",
        "# Evaluation metrics for KNN\n",
        "knn_accuracy = accuracy_score(y_test, knn_predictions)\n",
        "knn_precision = precision_score(y_test, knn_predictions)\n",
        "knn_recall = recall_score(y_test, knn_predictions)\n",
        "knn_f1 = f1_score(y_test, knn_predictions)\n",
        "knn_roc_auc = roc_auc_score(y_test, knn_predictions)\n",
        "\n",
        "# Print evaluation metrics\n",
        "print(\"Evaluation Metrics for Naive Bayes Classifier:\")\n",
        "# print(\"Accuracy:\", nb_accuracy)\n",
        "print(\"Precision:\", nb_precision)\n",
        "print(\"Recall:\", nb_recall)\n",
        "print(\"F1 Score:\", nb_f1)\n",
        "print(\"ROC AUC Score:\", nb_roc_auc)\n",
        "print()\n",
        "\n",
        "print(\"Evaluation Metrics for KNN Classifier:\")\n",
        "print(\"Accuracy:\", knn_accuracy)\n",
        "print(\"Precision:\", knn_precision)\n",
        "print(\"Recall:\", knn_recall)\n",
        "print(\"F1 Score:\", knn_f1)\n",
        "print(\"ROC AUC Score:\", knn_roc_auc)\n"
      ]
    },
    {
      "cell_type": "markdown",
      "id": "4c1f1f16-baa0-4c2d-b829-bbb10f47cb9f",
      "metadata": {
        "id": "4c1f1f16-baa0-4c2d-b829-bbb10f47cb9f"
      },
      "source": [
        "**Performance Evaluation Metrics Interpretation**\n",
        "\n",
        "1. Precision: Precision measures the proportion of true positive predictions among all positive predictions made by the classifier. In the context of these results, the Naive Bayes classifier has higher precision (0.1899) compared to KNN (0.1094). This means that when the Naive Bayes classifier predicts positive, it is correct more often than the KNN classifier.\n",
        "\n",
        "2. Recall: Recall (also known as sensitivity) measures the proportion of true positives that were correctly identified by the classifier out of all actual positives. The Naive Bayes classifier has higher recall (0.8824) compared to KNN (0.8235), indicating that Naive Bayes is better at capturing actual positive cases.\n",
        "\n",
        "3. F1 Score: F1 score is the harmonic mean of precision and recall. It provides a balance between precision and recall. The Naive Bayes classifier has a higher F1 score (0.3125) compared to KNN (0.1931), indicating better overall performance in terms of both precision and recall.\n",
        "\n",
        "4. ROC AUC Score: ROC AUC (Receiver Operating Characteristic - Area Under Curve) score measures the area under the ROC curve, which is a plot of the true positive rate against the false positive rate. The Naive Bayes classifier has a higher ROC AUC score (0.9331) compared to KNN (0.8974), indicating better overall performance in terms of the trade-off between true positive rate and false positive rate."
      ]
    },
    {
      "cell_type": "markdown",
      "id": "f489f80b-b073-46ca-a08c-a8c10fd83e76",
      "metadata": {
        "id": "f489f80b-b073-46ca-a08c-a8c10fd83e76"
      },
      "source": [
        "# Discuss the challenges of dealing with imbalanced data in classification tasks"
      ]
    },
    {
      "cell_type": "markdown",
      "id": "f539227d-1121-4277-9fc1-a7213d187333",
      "metadata": {
        "id": "f539227d-1121-4277-9fc1-a7213d187333"
      },
      "source": [
        "Dealing with imbalanced data in classification tasks poses several challenges, which can impact the performance and reliability of machine learning models. Some of the key challenges include:\n",
        "\n",
        "- Biased Models: Imbalanced datasets can lead to biased models, where the model's predictions are skewed towards the majority class. This bias can result in poor generalization and inaccurate predictions, especially for the minority class.\n",
        "\n",
        "- Poor Performance Metrics: Traditional performance metrics such as accuracy can be misleading in imbalanced datasets. A model that simply predicts the majority class for all instances can achieve high accuracy but may perform poorly in terms of correctly identifying minority class instances.\n",
        "\n",
        "- Class Imbalance: The class distribution in imbalanced datasets often leads to a scarcity of data for the minority class. As a result, the model may have difficulty learning patterns and making accurate predictions for these underrepresented classes.\n",
        "\n",
        "- Model Sensitivity: Imbalanced datasets can make models sensitive to changes in the distribution of classes. Small changes in the dataset, such as adding or removing instances, can significantly affect the model's performance, making it less robust.\n",
        "\n",
        "- Cost-Sensitive Learning: In many real-world applications, misclassifying minority class instances may have higher costs or consequences compared to misclassifying majority class instances. Traditional models may not consider these costs, leading to suboptimal deisparities.\n",
        "\n",
        "- Evaluation Bias: When evaluating models on imbalanced datasets, it's essential to use appropriate evaluation metrics that consider the class imbalance. Failing to do so can result in overly optimistic performance estimates and misrepresentation of the model's true capabilities.\n",
        "\n",
        "- Feature Importance: Imbalanced datasets can affect the interpretation of feature importance. Features that are highly predictive for the majority class may dominate the model's decision-making process, while features important for minority classes may be overlooked.\n",
        "\n",
        "Addressing these challenges requires careful consideration of techniques such as resampling methods (e.g., oversampling, undersampling), algorithmic adjustments (e.g., class weights, cost-sensitive learning), ensemble methods, and advanced evaluation strategies tailored for imbalanced datasets. Additionally, ensuring the quality and representativeness of the data collection process is crucial for mitigating biases and improving model performance.\n",
        "\n",
        "\n",
        "\n",
        "\n"
      ]
    },
    {
      "cell_type": "markdown",
      "id": "bc73e9a8-8eb0-42a8-8f0f-e799dd3d18f2",
      "metadata": {
        "id": "bc73e9a8-8eb0-42a8-8f0f-e799dd3d18f2"
      },
      "source": [
        "# Compare the performance of Naive Bayes and KNN classifiers in handling imbalanced datasets"
      ]
    },
    {
      "cell_type": "markdown",
      "id": "ec6a3bed-7604-42f3-ae28-925405e81737",
      "metadata": {
        "id": "ec6a3bed-7604-42f3-ae28-925405e81737"
      },
      "source": [
        "\n",
        "Comparing the performance of Naive Bayes (NB) and K-Nearest Neighbors (KNN) classifiers in handling imbalanced datasets involves evaluating their effectiveness in correctly predicting minority class instances and overall classification accuracy.\n",
        "\n",
        "**Naive Bayes:**\n",
        "\n",
        "- Advantages:\n",
        "Simple and computationally efficient.\n",
        "Performs well with small datasets.\n",
        "Robust to irrelevant features.\n",
        "\n",
        "- Challenges:\n",
        "Assumes independence between features, which may not hold true in real-world datasets.\n",
        "Tends to bias towards the majority class in imbalanced datasets.\n",
        "\n",
        "**K-Nearest Neighbors:**\n",
        "\n",
        "- Advantages:\n",
        "\n",
        "Non-parametric and flexible.\n",
        "Does not make strong assumptions about the data distribution.\n",
        "Can capture complex relationships between features.\n",
        "\n",
        "- Challenges:\n",
        "\n",
        "Sensitive to the choice of distance metric and number of neighbors.\n",
        "Computationally expensive during prediction, especially with large datasets.\n",
        "Prone to the curse of dimensionality.\n",
        "\n",
        "In handling imbalanced datasets:\n",
        "\n",
        "Naive Bayes may struggle due to its tendency to favor the majority class and its assumption of feature independence.\n",
        "KNN's performance can vary based on the choice of distance metric and the presence of noisy or irrelevant features.\n",
        "Both classifiers may require techniques like resampling, class weights, or cost-sensitive learning to improve their performance on imbalanced datasets.\n",
        "To compare their performance:\n",
        "\n",
        "While both Naive Bayes and KNN classifiers have their strengths and weaknesses in handling imbalanced datasets, their performance ultimately depends on the specific characteristics of the dataset and the preprocessing techniques applied. Experimentation and careful evaluation are essential to determine which classifier performs better for a particular imbalanced dataset."
      ]
    }
  ],
  "metadata": {
    "kernelspec": {
      "display_name": "Python 3 (ipykernel)",
      "language": "python",
      "name": "python3"
    },
    "language_info": {
      "codemirror_mode": {
        "name": "ipython",
        "version": 3
      },
      "file_extension": ".py",
      "mimetype": "text/x-python",
      "name": "python",
      "nbconvert_exporter": "python",
      "pygments_lexer": "ipython3",
      "version": "3.9.18"
    },
    "colab": {
      "provenance": [],
      "include_colab_link": true
    }
  },
  "nbformat": 4,
  "nbformat_minor": 5
}