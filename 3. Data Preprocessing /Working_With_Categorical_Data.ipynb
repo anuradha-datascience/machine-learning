{
  "nbformat": 4,
  "nbformat_minor": 0,
  "metadata": {
    "colab": {
      "provenance": [],
      "authorship_tag": "ABX9TyNWxjtagw0qQ6udGYkMn3zg",
      "include_colab_link": true
    },
    "kernelspec": {
      "name": "python3",
      "display_name": "Python 3"
    },
    "language_info": {
      "name": "python"
    }
  },
  "cells": [
    {
      "cell_type": "markdown",
      "metadata": {
        "id": "view-in-github",
        "colab_type": "text"
      },
      "source": [
        "<a href=\"https://colab.research.google.com/github/anuradha-datascience/machine-learning/blob/main/3.%20Data%20Preprocessing%20/Working_With_Categorical_Data.ipynb\" target=\"_parent\"><img src=\"https://colab.research.google.com/assets/colab-badge.svg\" alt=\"Open In Colab\"/></a>"
      ]
    },
    {
      "cell_type": "markdown",
      "source": [
        "# What is a Categorical Variable\n",
        "- Qualitative Data with **finite** number of groups/categories - like colors, name of countries, employee department\n",
        "- Can be reperesented with a digit too besides text value - like size of shirt -38,40,42,44\n",
        "- Unlike numerical data which is a quantitative and usually a measurement of certain parameter like weight and height\n",
        "\n",
        "# Categorical Data can be further divided into Ordinal and Numerical data\n",
        "- Ordinal -which have natural Order\n",
        "\n",
        "  - small , medium, large\n",
        "  - strogly disagree, disagree,neutral, agree, strongly agree\n",
        "  - education - high school, bachelor's , master's,phd\n",
        "  - Salary Range - Low, Medium, High\n",
        "\n",
        "- Nominal - which cannot be placed in natural order\n",
        "  - name of  colors\n",
        "  - name of countries\n",
        "  - employee ids\n",
        "  - department names\n",
        "  - gender - male, female - also binary in nature\n",
        "  - marital status\n",
        "  -customer churn - yes no - binary in nature\n",
        "  - spam - yes/ no- binary in nature\n",
        "\n",
        "\n"
      ],
      "metadata": {
        "id": "KdMw6X3Ntvst"
      }
    },
    {
      "cell_type": "markdown",
      "source": [
        "# Import a Dataset and Analyze the type of its variables\n",
        "\n",
        "- categorical(Nominal or Ordinal)\n",
        "- Or Numerical"
      ],
      "metadata": {
        "id": "XE46I3ho4Mxc"
      }
    },
    {
      "cell_type": "code",
      "execution_count": null,
      "metadata": {
        "id": "LHbcEcvLtki3"
      },
      "outputs": [],
      "source": []
    },
    {
      "cell_type": "markdown",
      "source": [
        "# Convert to categorical variable to dtype - category\n",
        "\n",
        "- Note: Using the categorical dtype is a great way to save memory and boost performance. Specifying the dtypes will lower the amount of memory required to load your dataset. This is quite helpful when dealing with large datasets!"
      ],
      "metadata": {
        "id": "YVHCZ9Sqnx8a"
      }
    },
    {
      "cell_type": "code",
      "source": [],
      "metadata": {
        "id": "HyV3iueKn5US"
      },
      "execution_count": null,
      "outputs": []
    },
    {
      "cell_type": "markdown",
      "source": [
        "# Engineering Numerical Features To Categorical\n",
        "\n",
        "- Example Age to Age Groups"
      ],
      "metadata": {
        "id": "BO9jr80QSC7w"
      }
    },
    {
      "cell_type": "markdown",
      "source": [
        "# Different Types of encoding for different kinds of Categorical Variable"
      ],
      "metadata": {
        "id": "2GKXFelGn45F"
      }
    },
    {
      "cell_type": "markdown",
      "source": [
        "## Binary Variable - pandas apply method to give 0 and 1\n",
        "\n",
        "\n"
      ],
      "metadata": {
        "id": "CEh2LKLC07yO"
      }
    },
    {
      "cell_type": "code",
      "source": [],
      "metadata": {
        "id": "CGqf_6PI1Tnd"
      },
      "execution_count": null,
      "outputs": []
    },
    {
      "cell_type": "markdown",
      "source": [
        "## Binary Variable - using sci kit learn labelencoder\n",
        "\n",
        "- Simplicity: LabelEncoder is easier to use and requires less code.\n",
        "- Consistency: Ensures consistent mapping of categories to integers across datasets.\n",
        "- Integration: Works seamlessly with scikit-learn tools and pipelines.\n",
        "- Handling Unseen Data: Provides methods to manage unseen data and reverse transformations.\n",
        "- Performance: Optimized for efficiency on large datasets.\n",
        "- Not suitable for noiminal data as label encoding preserves the order by assigning a unique integer to each category based on their ranking.\n",
        "- Suitable for ordinal data and for nominal data in tree-based models or simple lookups but we can use for binary data anyways"
      ],
      "metadata": {
        "id": "IXq1XSj_1TKu"
      }
    },
    {
      "cell_type": "code",
      "source": [],
      "metadata": {
        "id": "ERhsAsFmOEnY"
      },
      "execution_count": null,
      "outputs": []
    },
    {
      "cell_type": "markdown",
      "source": [],
      "metadata": {
        "id": "ZWGd_DlnOFFs"
      }
    },
    {
      "cell_type": "markdown",
      "source": [
        "# Handling Nominal Variable Encoding with One Hot Encoding\n",
        "\n",
        "\n",
        "-  avoids false ordinal relationships.\n",
        "\n",
        "- pandas get_dummies: Convenient for small to medium-sized datasets and easy to use within the pandas ecosystem.\n",
        "\n",
        "- scikit-learn OneHotEncoder: More flexible and powerful, especially for integration into machine learning pipelines and handling large datasets efficiently with sparse matrices."
      ],
      "metadata": {
        "id": "XZSjzN_ZP8WT"
      }
    },
    {
      "cell_type": "code",
      "source": [],
      "metadata": {
        "id": "mZ3UeIolQCfi"
      },
      "execution_count": null,
      "outputs": []
    }
  ]
}