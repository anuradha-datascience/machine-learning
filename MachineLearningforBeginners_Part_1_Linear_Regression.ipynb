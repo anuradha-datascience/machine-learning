{
  "nbformat": 4,
  "nbformat_minor": 0,
  "metadata": {
    "colab": {
      "provenance": [],
      "authorship_tag": "ABX9TyNVgE4Ru9qDZoNTanq9iGyO",
      "include_colab_link": true
    },
    "kernelspec": {
      "name": "python3",
      "display_name": "Python 3"
    },
    "language_info": {
      "name": "python"
    }
  },
  "cells": [
    {
      "cell_type": "markdown",
      "metadata": {
        "id": "view-in-github",
        "colab_type": "text"
      },
      "source": [
        "<a href=\"https://colab.research.google.com/github/anuradha-datascience/machine-learning/blob/main/MachineLearningforBeginners_Part_1_Linear_Regression.ipynb\" target=\"_parent\"><img src=\"https://colab.research.google.com/assets/colab-badge.svg\" alt=\"Open In Colab\"/></a>"
      ]
    },
    {
      "cell_type": "code",
      "source": [],
      "metadata": {
        "id": "aqG8YoPQGvmG"
      },
      "execution_count": 89,
      "outputs": []
    },
    {
      "cell_type": "markdown",
      "source": [
        "This is a hands-on learning approach where I will not be overwhelming you with standalone concepts of mathsor visualization libraries or numpy.We will be simply using them as and when the need is there and that will help you to grasp the actual implementation with sound *concepts*"
      ],
      "metadata": {
        "id": "ooKySR2NCBpi"
      }
    },
    {
      "cell_type": "markdown",
      "source": [
        "# Machine Learning - **Topics**\n",
        "\n",
        "1. Introduction - ML, Types,SL,UL, Regression , Classification\n",
        "\n",
        "What will be the approach to learn\n",
        "\n",
        "Maths ?\n",
        "\n",
        "Python ?\n",
        "\n",
        "2. Weight , Bias , Feature(Slope, intercept, target and independent variable)\n",
        "\n",
        "3. Linear Regression Problem - Supervised Learning Regression Problem\n",
        "\n",
        "4. Error - Predicted Vs Tested Value\n",
        "\n",
        "5. A little maths on derivative\n",
        "\n",
        "7. Gradient Descent and Cost Function\n",
        "\n",
        "8. Logistic Regression - Solving Supervised Learning Classification problem\n",
        "\n",
        "9. Performance Evaluation\n",
        "\n",
        "\n"
      ],
      "metadata": {
        "id": "8ud19jCqCbOK"
      }
    },
    {
      "cell_type": "markdown",
      "source": [
        "# Machine Learning - Introduction"
      ],
      "metadata": {
        "id": "1E4kDeaZFklX"
      }
    },
    {
      "cell_type": "code",
      "source": [],
      "metadata": {
        "id": "t0o9qcfKKM9Y"
      },
      "execution_count": 89,
      "outputs": []
    },
    {
      "cell_type": "markdown",
      "source": [
        "# Features, Weights and Bias\n"
      ],
      "metadata": {
        "id": "41NkGklaCESE"
      }
    },
    {
      "cell_type": "markdown",
      "source": [
        "Let's solve a basic maths problem:\n",
        "suppose you go to supermarket one day and find the melons of different sizes and weights\n",
        "\n",
        "melon_data = [(1, 2), (2, 4), (3, 6),(4, 8), (5, 10]\n",
        "\n",
        "melon_price=2*melon_wt\n",
        "\n",
        "let's say  you need to pay parking of the place as $2 weather you buy or not\n",
        "\n",
        "\n",
        "melon_price=2*melon_wt+2\n",
        "\n",
        "If I ask you the price of melon weighted 20 kg, you will substitute in equation:\n",
        "\n",
        "melon_price_20=2*20+2\n",
        "\n",
        "We can also draw a graph with and without parking .We can predict value from the line.\n",
        "\n",
        "\n",
        "\n",
        "\n",
        "\n",
        "\n"
      ],
      "metadata": {
        "id": "lwXpyhDjKh7M"
      }
    },
    {
      "cell_type": "code",
      "source": [],
      "metadata": {
        "id": "3k8Rw8PiO9I5"
      },
      "execution_count": 89,
      "outputs": []
    },
    {
      "cell_type": "code",
      "source": [
        "import matplotlib.pyplot as plt\n",
        "import seaborn as sns\n",
        "\n",
        "# Sample list of tuples containing coordinates\n",
        "coordinates1 = [(0,0),(1, 2), (2, 4), (3, 6), (4, 8), (5, 10)]\n",
        "#with bias\n",
        "coordinates2 = [(0,2),(1, 4), (2, 6), (3, 8), (4, 10), (5, 12)]\n",
        "\n",
        "\n",
        "# Extract x and y coordinates from the list of tuples\n",
        "x_values_1 = [coord[0] for coord in coordinates1]\n",
        "y_values_1 = [coord[1] for coord in coordinates1]\n",
        "\n",
        "# Extract x and y coordinates from the list of tuples\n",
        "x_values_2 = [coord[0] for coord in coordinates2]\n",
        "y_values_2 = [coord[1] for coord in coordinates2]\n",
        "\n",
        "# Plot the points\n",
        "sns.regplot(x=x_values_1,y= y_values_1,color='blue')\n",
        "\n",
        "# Plot the points\n",
        "sns.regplot(x=x_values_2,y= y_values_2,color='orange')\n",
        "\n",
        "\n",
        "# Add labels and title\n",
        "# Customize x-ticks to display integers\n",
        "plt.xticks(range(min(x_values_1), max(x_values_1)+5))\n",
        "plt.yticks(range(min(y_values_1), max(y_values_1)+10))\n",
        "\n",
        "# Add labels and title\n",
        "plt.xlabel('Melon Weight')\n",
        "plt.ylabel('Melon Price')\n",
        "plt.title('Melon Wt Vs Price')\n",
        "# Show the plot\n",
        "plt.grid(True)\n",
        "plt.show()\n",
        "\n",
        "#annotate line with eqaution while describing"
      ],
      "metadata": {
        "id": "ANE5KKRZKYOp",
        "colab": {
          "base_uri": "https://localhost:8080/",
          "height": 472
        },
        "outputId": "e79adf90-0ca3-4acb-ebb8-96a28bd9528d"
      },
      "execution_count": 90,
      "outputs": [
        {
          "output_type": "display_data",
          "data": {
            "text/plain": [
              "<Figure size 640x480 with 1 Axes>"
            ],
            "image/png": "[encoded data removed]"
          },
          "metadata": {}
        }
      ]
    },
    {
      "cell_type": "markdown",
      "source": [
        "[Inspiration: Towards Data Science](https://towardsdatascience.com/machine-learning-simple-linear-regression-with-python-f04ecfdadc13)\n",
        "\n",
        "Linear equation in general be written as\n",
        "\n",
        "y=mx+b\n",
        "\n",
        "m-> slope or weight\n",
        "\n",
        "b-> bias\n",
        "\n",
        "x, y are variables are\n",
        "\n",
        "when we are using it for machine learning, y is dependent variable(dependent on x in this case like melon price is dependendent on melon weight) or predicted variable or label or target variable or the variable\n",
        "x is independent variable or feature\n",
        "\n",
        "\n",
        "This can also be interpretedvas simple linear regression model where we can predic value of with help of value of x\n",
        "\n",
        "\n",
        "\n",
        "**When life is not that straightforward**\n",
        "\n",
        "Suppose we want to predict the salary of an employee based on their years of experience. In this case, the independent variable is “years of experience” and the dependent variable is “salary”. We have a dataset that contains the salaries of 35 employees along with their years of experience.\n",
        "\n",
        "Now you are a hiring manager and you have a candidate 7.7 years of experience, what salary you could offer based on dataset provided\n",
        "\n",
        " Our task is to build a model that can predict the salary of a new employee based on their years of experience.\n",
        "\n",
        "\n",
        "\n",
        "[Salary Data Set](https://www.kaggle.com/code/codebreaker619/employee-salary-prediction-using-linear-regression/input)\n",
        "\n",
        "\n",
        "\n",
        "\n"
      ],
      "metadata": {
        "id": "1gfdhXiOeFTj"
      }
    },
    {
      "cell_type": "code",
      "execution_count": 90,
      "metadata": {
        "id": "m4Y1vMwgk3-h"
      },
      "outputs": [],
      "source": []
    },
    {
      "cell_type": "markdown",
      "source": [],
      "metadata": {
        "id": "NxXmQMHdeeyO"
      }
    },
    {
      "cell_type": "code",
      "source": [
        "import pandas as pd\n",
        "\n",
        "# Convert dictionary to DataFrame\n",
        "df = pd.read_csv(\"Salary.csv\")\n",
        "\n",
        "# Display the DataFrame\n",
        "df.head()"
      ],
      "metadata": {
        "colab": {
          "base_uri": "https://localhost:8080/",
          "height": 206
        },
        "id": "9orFEl8_mtcZ",
        "outputId": "50b233c6-c125-43a3-a6e5-dd7a2c79d35b"
      },
      "execution_count": 91,
      "outputs": [
        {
          "output_type": "execute_result",
          "data": {
            "text/plain": [
              "   YearsExperience  Salary\n",
              "0              1.1   39343\n",
              "1              1.3   46205\n",
              "2              1.5   37731\n",
              "3              2.0   43525\n",
              "4              2.2   39891"
            ],
            "text/html": [
              "\n",
              "  <div id=\"df-161a3756-b1a9-4769-9748-d6f2fbdc9597\" class=\"colab-df-container\">\n",
              "    <div>\n",
              "<style scoped>\n",
              "    .dataframe tbody tr th:only-of-type {\n",
              "        vertical-align: middle;\n",
              "    }\n",
              "\n",
              "    .dataframe tbody tr th {\n",
              "        vertical-align: top;\n",
              "    }\n",
              "\n",
              "    .dataframe thead th {\n",
              "        text-align: right;\n",
              "    }\n",
              "</style>\n",
              "<table border=\"1\" class=\"dataframe\">\n",
              "  <thead>\n",
              "    <tr style=\"text-align: right;\">\n",
              "      <th></th>\n",
              "      <th>YearsExperience</th>\n",
              "      <th>Salary</th>\n",
              "    </tr>\n",
              "  </thead>\n",
              "  <tbody>\n",
              "    <tr>\n",
              "      <th>0</th>\n",
              "      <td>1.1</td>\n",
              "      <td>39343</td>\n",
              "    </tr>\n",
              "    <tr>\n",
              "      <th>1</th>\n",
              "      <td>1.3</td>\n",
              "      <td>46205</td>\n",
              "    </tr>\n",
              "    <tr>\n",
              "      <th>2</th>\n",
              "      <td>1.5</td>\n",
              "      <td>37731</td>\n",
              "    </tr>\n",
              "    <tr>\n",
              "      <th>3</th>\n",
              "      <td>2.0</td>\n",
              "      <td>43525</td>\n",
              "    </tr>\n",
              "    <tr>\n",
              "      <th>4</th>\n",
              "      <td>2.2</td>\n",
              "      <td>39891</td>\n",
              "    </tr>\n",
              "  </tbody>\n",
              "</table>\n",
              "</div>\n",
              "    <div class=\"colab-df-buttons\">\n",
              "\n",
              "  <div class=\"colab-df-container\">\n",
              "    <button class=\"colab-df-convert\" onclick=\"convertToInteractive('df-161a3756-b1a9-4769-9748-d6f2fbdc9597')\"\n",
              "            title=\"Convert this dataframe to an interactive table.\"\n",
              "            style=\"display:none;\">\n",
              "\n",
              "  <svg xmlns=\"http://www.w3.org/2000/svg\" height=\"24px\" viewBox=\"0 -960 960 960\">\n",
              "    <path d=\"M120-120v-720h720v720H120Zm60-500h600v-160H180v160Zm220 220h160v-160H400v160Zm0 220h160v-160H400v160ZM180-400h160v-160H180v160Zm440 0h160v-160H620v160ZM180-180h160v-160H180v160Zm440 0h160v-160H620v160Z\"/>\n",
              "  </svg>\n",
              "    </button>\n",
              "\n",
              "  <style>\n",
              "    .colab-df-container {\n",
              "      display:flex;\n",
              "      gap: 12px;\n",
              "    }\n",
              "\n",
              "    .colab-df-convert {\n",
              "      background-color: #E8F0FE;\n",
              "      border: none;\n",
              "      border-radius: 50%;\n",
              "      cursor: pointer;\n",
              "      display: none;\n",
              "      fill: #1967D2;\n",
              "      height: 32px;\n",
              "      padding: 0 0 0 0;\n",
              "      width: 32px;\n",
              "    }\n",
              "\n",
              "    .colab-df-convert:hover {\n",
              "      background-color: #E2EBFA;\n",
              "      box-shadow: 0px 1px 2px rgba(60, 64, 67, 0.3), 0px 1px 3px 1px rgba(60, 64, 67, 0.15);\n",
              "      fill: #174EA6;\n",
              "    }\n",
              "\n",
              "    .colab-df-buttons div {\n",
              "      margin-bottom: 4px;\n",
              "    }\n",
              "\n",
              "    [theme=dark] .colab-df-convert {\n",
              "      background-color: #3B4455;\n",
              "      fill: #D2E3FC;\n",
              "    }\n",
              "\n",
              "    [theme=dark] .colab-df-convert:hover {\n",
              "      background-color: #434B5C;\n",
              "      box-shadow: 0px 1px 3px 1px rgba(0, 0, 0, 0.15);\n",
              "      filter: drop-shadow(0px 1px 2px rgba(0, 0, 0, 0.3));\n",
              "      fill: #FFFFFF;\n",
              "    }\n",
              "  </style>\n",
              "\n",
              "    <script>\n",
              "      const buttonEl =\n",
              "        document.querySelector('#df-161a3756-b1a9-4769-9748-d6f2fbdc9597 button.colab-df-convert');\n",
              "      buttonEl.style.display =\n",
              "        google.colab.kernel.accessAllowed ? 'block' : 'none';\n",
              "\n",
              "      async function convertToInteractive(key) {\n",
              "        const element = document.querySelector('#df-161a3756-b1a9-4769-9748-d6f2fbdc9597');\n",
              "        const dataTable =\n",
              "          await google.colab.kernel.invokeFunction('convertToInteractive',\n",
              "                                                    [key], {});\n",
              "        if (!dataTable) return;\n",
              "\n",
              "        const docLinkHtml = 'Like what you see? Visit the ' +\n",
              "          '<a target=\"_blank\" href=https://colab.research.google.com/notebooks/data_table.ipynb>data table notebook</a>'\n",
              "          + ' to learn more about interactive tables.';\n",
              "        element.innerHTML = '';\n",
              "        dataTable['output_type'] = 'display_data';\n",
              "        await google.colab.output.renderOutput(dataTable, element);\n",
              "        const docLink = document.createElement('div');\n",
              "        docLink.innerHTML = docLinkHtml;\n",
              "        element.appendChild(docLink);\n",
              "      }\n",
              "    </script>\n",
              "  </div>\n",
              "\n",
              "\n",
              "<div id=\"df-a35e8861-109d-4a88-a7ee-e9b64e05a8b3\">\n",
              "  <button class=\"colab-df-quickchart\" onclick=\"quickchart('df-a35e8861-109d-4a88-a7ee-e9b64e05a8b3')\"\n",
              "            title=\"Suggest charts\"\n",
              "            style=\"display:none;\">\n",
              "\n",
              "<svg xmlns=\"http://www.w3.org/2000/svg\" height=\"24px\"viewBox=\"0 0 24 24\"\n",
              "     width=\"24px\">\n",
              "    <g>\n",
              "        <path d=\"M19 3H5c-1.1 0-2 .9-2 2v14c0 1.1.9 2 2 2h14c1.1 0 2-.9 2-2V5c0-1.1-.9-2-2-2zM9 17H7v-7h2v7zm4 0h-2V7h2v10zm4 0h-2v-4h2v4z\"/>\n",
              "    </g>\n",
              "</svg>\n",
              "  </button>\n",
              "\n",
              "<style>\n",
              "  .colab-df-quickchart {\n",
              "      --bg-color: #E8F0FE;\n",
              "      --fill-color: #1967D2;\n",
              "      --hover-bg-color: #E2EBFA;\n",
              "      --hover-fill-color: #174EA6;\n",
              "      --disabled-fill-color: #AAA;\n",
              "      --disabled-bg-color: #DDD;\n",
              "  }\n",
              "\n",
              "  [theme=dark] .colab-df-quickchart {\n",
              "      --bg-color: #3B4455;\n",
              "      --fill-color: #D2E3FC;\n",
              "      --hover-bg-color: #434B5C;\n",
              "      --hover-fill-color: #FFFFFF;\n",
              "      --disabled-bg-color: #3B4455;\n",
              "      --disabled-fill-color: #666;\n",
              "  }\n",
              "\n",
              "  .colab-df-quickchart {\n",
              "    background-color: var(--bg-color);\n",
              "    border: none;\n",
              "    border-radius: 50%;\n",
              "    cursor: pointer;\n",
              "    display: none;\n",
              "    fill: var(--fill-color);\n",
              "    height: 32px;\n",
              "    padding: 0;\n",
              "    width: 32px;\n",
              "  }\n",
              "\n",
              "  .colab-df-quickchart:hover {\n",
              "    background-color: var(--hover-bg-color);\n",
              "    box-shadow: 0 1px 2px rgba(60, 64, 67, 0.3), 0 1px 3px 1px rgba(60, 64, 67, 0.15);\n",
              "    fill: var(--button-hover-fill-color);\n",
              "  }\n",
              "\n",
              "  .colab-df-quickchart-complete:disabled,\n",
              "  .colab-df-quickchart-complete:disabled:hover {\n",
              "    background-color: var(--disabled-bg-color);\n",
              "    fill: var(--disabled-fill-color);\n",
              "    box-shadow: none;\n",
              "  }\n",
              "\n",
              "  .colab-df-spinner {\n",
              "    border: 2px solid var(--fill-color);\n",
              "    border-color: transparent;\n",
              "    border-bottom-color: var(--fill-color);\n",
              "    animation:\n",
              "      spin 1s steps(1) infinite;\n",
              "  }\n",
              "\n",
              "  @keyframes spin {\n",
              "    0% {\n",
              "      border-color: transparent;\n",
              "      border-bottom-color: var(--fill-color);\n",
              "      border-left-color: var(--fill-color);\n",
              "    }\n",
              "    20% {\n",
              "      border-color: transparent;\n",
              "      border-left-color: var(--fill-color);\n",
              "      border-top-color: var(--fill-color);\n",
              "    }\n",
              "    30% {\n",
              "      border-color: transparent;\n",
              "      border-left-color: var(--fill-color);\n",
              "      border-top-color: var(--fill-color);\n",
              "      border-right-color: var(--fill-color);\n",
              "    }\n",
              "    40% {\n",
              "      border-color: transparent;\n",
              "      border-right-color: var(--fill-color);\n",
              "      border-top-color: var(--fill-color);\n",
              "    }\n",
              "    60% {\n",
              "      border-color: transparent;\n",
              "      border-right-color: var(--fill-color);\n",
              "    }\n",
              "    80% {\n",
              "      border-color: transparent;\n",
              "      border-right-color: var(--fill-color);\n",
              "      border-bottom-color: var(--fill-color);\n",
              "    }\n",
              "    90% {\n",
              "      border-color: transparent;\n",
              "      border-bottom-color: var(--fill-color);\n",
              "    }\n",
              "  }\n",
              "</style>\n",
              "\n",
              "  <script>\n",
              "    async function quickchart(key) {\n",
              "      const quickchartButtonEl =\n",
              "        document.querySelector('#' + key + ' button');\n",
              "      quickchartButtonEl.disabled = true;  // To prevent multiple clicks.\n",
              "      quickchartButtonEl.classList.add('colab-df-spinner');\n",
              "      try {\n",
              "        const charts = await google.colab.kernel.invokeFunction(\n",
              "            'suggestCharts', [key], {});\n",
              "      } catch (error) {\n",
              "        console.error('Error during call to suggestCharts:', error);\n",
              "      }\n",
              "      quickchartButtonEl.classList.remove('colab-df-spinner');\n",
              "      quickchartButtonEl.classList.add('colab-df-quickchart-complete');\n",
              "    }\n",
              "    (() => {\n",
              "      let quickchartButtonEl =\n",
              "        document.querySelector('#df-a35e8861-109d-4a88-a7ee-e9b64e05a8b3 button');\n",
              "      quickchartButtonEl.style.display =\n",
              "        google.colab.kernel.accessAllowed ? 'block' : 'none';\n",
              "    })();\n",
              "  </script>\n",
              "</div>\n",
              "\n",
              "    </div>\n",
              "  </div>\n"
            ],
            "application/vnd.google.colaboratory.intrinsic+json": {
              "type": "dataframe",
              "variable_name": "df",
              "summary": "{\n  \"name\": \"df\",\n  \"rows\": 35,\n  \"fields\": [\n    {\n      \"column\": \"YearsExperience\",\n      \"properties\": {\n        \"dtype\": \"number\",\n        \"std\": 3.6186096963410934,\n        \"min\": 1.1,\n        \"max\": 13.5,\n        \"num_unique_values\": 33,\n        \"samples\": [\n          12.9,\n          5.3,\n          10.3\n        ],\n        \"semantic_type\": \"\",\n        \"description\": \"\"\n      }\n    },\n    {\n      \"column\": \"Salary\",\n      \"properties\": {\n        \"dtype\": \"number\",\n        \"std\": 32162,\n        \"min\": 37731,\n        \"max\": 139465,\n        \"num_unique_values\": 35,\n        \"samples\": [\n          116969,\n          57081,\n          109431\n        ],\n        \"semantic_type\": \"\",\n        \"description\": \"\"\n      }\n    }\n  ]\n}"
            }
          },
          "metadata": {},
          "execution_count": 91
        }
      ]
    },
    {
      "cell_type": "code",
      "source": [
        "df.info()"
      ],
      "metadata": {
        "colab": {
          "base_uri": "https://localhost:8080/"
        },
        "id": "gJF0mmkMnqDD",
        "outputId": "dd13c128-d63e-47b1-b8f4-d8afcf03f7b9"
      },
      "execution_count": 92,
      "outputs": [
        {
          "output_type": "stream",
          "name": "stdout",
          "text": [
            "<class 'pandas.core.frame.DataFrame'>\n",
            "RangeIndex: 35 entries, 0 to 34\n",
            "Data columns (total 2 columns):\n",
            " #   Column           Non-Null Count  Dtype  \n",
            "---  ------           --------------  -----  \n",
            " 0   YearsExperience  35 non-null     float64\n",
            " 1   Salary           35 non-null     int64  \n",
            "dtypes: float64(1), int64(1)\n",
            "memory usage: 688.0 bytes\n"
          ]
        }
      ]
    },
    {
      "cell_type": "markdown",
      "source": [
        "Based on our observation, we can guess that the salary range of 5 Years Experience should be in the particular range. Of course, we can offer to our candidate any number in that red range. But how to pick the best number for him? It’s time to use Machine Learning to predict the best salary for our candidate."
      ],
      "metadata": {
        "id": "EmI78dSgYbTR"
      }
    },
    {
      "cell_type": "code",
      "source": [],
      "metadata": {
        "id": "oQw-T2J3Yanc"
      },
      "execution_count": 92,
      "outputs": []
    },
    {
      "cell_type": "markdown",
      "source": [
        "*The goal of creating a model is to choose parameters, or theta values, so that y^ is close to y for the training data, x and y. *"
      ],
      "metadata": {
        "id": "rWaIt5n7SxrG"
      }
    },
    {
      "cell_type": "code",
      "source": [
        "import matplotlib.pyplot as plt\n",
        "\n",
        "# Create scatter plot\n",
        "plt.scatter(df[\"YearsExperience\"], df[\"Salary\"])\n",
        "\n",
        "#set labels\n",
        "plt.title('YearsExperience vs. Salary')\n",
        "plt.xlabel('YearsExperience')\n",
        "plt.ylabel('Salary')\n",
        "\n",
        "# Set y-axis tick formatter to disable scientific notation\n",
        "plt.ticklabel_format(style='plain', axis='y')\n",
        "\n",
        "#show plot\n",
        "plt.show()"
      ],
      "metadata": {
        "id": "LOj6YWf4LN_M",
        "colab": {
          "base_uri": "https://localhost:8080/",
          "height": 472
        },
        "outputId": "e973c54a-4e4a-4f19-f128-68bc5b5c4550"
      },
      "execution_count": 93,
      "outputs": [
        {
          "output_type": "display_data",
          "data": {
            "text/plain": [
              "<Figure size 640x480 with 1 Axes>"
            ],
            "image/png": "[encoded data removed]"
          },
          "metadata": {}
        }
      ]
    },
    {
      "cell_type": "code",
      "source": [
        "from sklearn.linear_model import LinearRegression\n",
        "model = LinearRegression()\n",
        "X = df.iloc[:, :-1].values #get a copy of dataset exclude last column\n",
        "y = df.iloc[:, 1].values #get array of dataset in column 1st\n",
        "#input features need to be in 2-D shappe\n",
        "X.shape\n",
        "\n",
        "\n"
      ],
      "metadata": {
        "colab": {
          "base_uri": "https://localhost:8080/"
        },
        "id": "g21upNy1aL1g",
        "outputId": "890ef7e8-3d31-4b40-dab8-8c81ff48c9a8"
      },
      "execution_count": 94,
      "outputs": [
        {
          "output_type": "execute_result",
          "data": {
            "text/plain": [
              "(35, 1)"
            ]
          },
          "metadata": {},
          "execution_count": 94
        }
      ]
    },
    {
      "cell_type": "code",
      "source": [
        "#training the model - we will talk about what is actually training the model later\n",
        "model.fit(X, y)\n"
      ],
      "metadata": {
        "colab": {
          "base_uri": "https://localhost:8080/",
          "height": 74
        },
        "id": "VWABNHJ_bqJ4",
        "outputId": "84da0498-57a7-485e-9b45-1541c731fccf"
      },
      "execution_count": 95,
      "outputs": [
        {
          "output_type": "execute_result",
          "data": {
            "text/plain": [
              "LinearRegression()"
            ],
            "text/html": [
              "<style>#sk-container-id-5 {color: black;background-color: white;}#sk-container-id-5 pre{padding: 0;}#sk-container-id-5 div.sk-toggleable {background-color: white;}#sk-container-id-5 label.sk-toggleable__label {cursor: pointer;display: block;width: 100%;margin-bottom: 0;padding: 0.3em;box-sizing: border-box;text-align: center;}#sk-container-id-5 label.sk-toggleable__label-arrow:before {content: \"▸\";float: left;margin-right: 0.25em;color: #696969;}#sk-container-id-5 label.sk-toggleable__label-arrow:hover:before {color: black;}#sk-container-id-5 div.sk-estimator:hover label.sk-toggleable__label-arrow:before {color: black;}#sk-container-id-5 div.sk-toggleable__content {max-height: 0;max-width: 0;overflow: hidden;text-align: left;background-color: #f0f8ff;}#sk-container-id-5 div.sk-toggleable__content pre {margin: 0.2em;color: black;border-radius: 0.25em;background-color: #f0f8ff;}#sk-container-id-5 input.sk-toggleable__control:checked~div.sk-toggleable__content {max-height: 200px;max-width: 100%;overflow: auto;}#sk-container-id-5 input.sk-toggleable__control:checked~label.sk-toggleable__label-arrow:before {content: \"▾\";}#sk-container-id-5 div.sk-estimator input.sk-toggleable__control:checked~label.sk-toggleable__label {background-color: #d4ebff;}#sk-container-id-5 div.sk-label input.sk-toggleable__control:checked~label.sk-toggleable__label {background-color: #d4ebff;}#sk-container-id-5 input.sk-hidden--visually {border: 0;clip: rect(1px 1px 1px 1px);clip: rect(1px, 1px, 1px, 1px);height: 1px;margin: -1px;overflow: hidden;padding: 0;position: absolute;width: 1px;}#sk-container-id-5 div.sk-estimator {font-family: monospace;background-color: #f0f8ff;border: 1px dotted black;border-radius: 0.25em;box-sizing: border-box;margin-bottom: 0.5em;}#sk-container-id-5 div.sk-estimator:hover {background-color: #d4ebff;}#sk-container-id-5 div.sk-parallel-item::after {content: \"\";width: 100%;border-bottom: 1px solid gray;flex-grow: 1;}#sk-container-id-5 div.sk-label:hover label.sk-toggleable__label {background-color: #d4ebff;}#sk-container-id-5 div.sk-serial::before {content: \"\";position: absolute;border-left: 1px solid gray;box-sizing: border-box;top: 0;bottom: 0;left: 50%;z-index: 0;}#sk-container-id-5 div.sk-serial {display: flex;flex-direction: column;align-items: center;background-color: white;padding-right: 0.2em;padding-left: 0.2em;position: relative;}#sk-container-id-5 div.sk-item {position: relative;z-index: 1;}#sk-container-id-5 div.sk-parallel {display: flex;align-items: stretch;justify-content: center;background-color: white;position: relative;}#sk-container-id-5 div.sk-item::before, #sk-container-id-5 div.sk-parallel-item::before {content: \"\";position: absolute;border-left: 1px solid gray;box-sizing: border-box;top: 0;bottom: 0;left: 50%;z-index: -1;}#sk-container-id-5 div.sk-parallel-item {display: flex;flex-direction: column;z-index: 1;position: relative;background-color: white;}#sk-container-id-5 div.sk-parallel-item:first-child::after {align-self: flex-end;width: 50%;}#sk-container-id-5 div.sk-parallel-item:last-child::after {align-self: flex-start;width: 50%;}#sk-container-id-5 div.sk-parallel-item:only-child::after {width: 0;}#sk-container-id-5 div.sk-dashed-wrapped {border: 1px dashed gray;margin: 0 0.4em 0.5em 0.4em;box-sizing: border-box;padding-bottom: 0.4em;background-color: white;}#sk-container-id-5 div.sk-label label {font-family: monospace;font-weight: bold;display: inline-block;line-height: 1.2em;}#sk-container-id-5 div.sk-label-container {text-align: center;}#sk-container-id-5 div.sk-container {/* jupyter's `normalize.less` sets `[hidden] { display: none; }` but bootstrap.min.css set `[hidden] { display: none !important; }` so we also need the `!important` here to be able to override the default hidden behavior on the sphinx rendered scikit-learn.org. See: https://github.com/scikit-learn/scikit-learn/issues/21755 */display: inline-block !important;position: relative;}#sk-container-id-5 div.sk-text-repr-fallback {display: none;}</style><div id=\"sk-container-id-5\" class=\"sk-top-container\"><div class=\"sk-text-repr-fallback\"><pre>LinearRegression()</pre><b>In a Jupyter environment, please rerun this cell to show the HTML representation or trust the notebook. <br />On GitHub, the HTML representation is unable to render, please try loading this page with nbviewer.org.</b></div><div class=\"sk-container\" hidden><div class=\"sk-item\"><div class=\"sk-estimator sk-toggleable\"><input class=\"sk-toggleable__control sk-hidden--visually\" id=\"sk-estimator-id-5\" type=\"checkbox\" checked><label for=\"sk-estimator-id-5\" class=\"sk-toggleable__label sk-toggleable__label-arrow\">LinearRegression</label><div class=\"sk-toggleable__content\"><pre>LinearRegression()</pre></div></div></div></div></div>"
            ]
          },
          "metadata": {},
          "execution_count": 95
        }
      ]
    },
    {
      "cell_type": "code",
      "source": [
        "# Visualizing the Training set results\n",
        "\n",
        "plt.scatter(X, y, color='red')\n",
        "plt.plot(X, model.predict(X), color='blue')\n",
        "plt.title('Salary VS Experience')\n",
        "plt.xlabel('Year of Experience')\n",
        "plt.ylabel('Salary')\n",
        "plt.show()"
      ],
      "metadata": {
        "colab": {
          "base_uri": "https://localhost:8080/",
          "height": 472
        },
        "id": "03FAn1n_dpxk",
        "outputId": "643d50bf-a3ec-4661-910d-dcd4038be1b3"
      },
      "execution_count": 96,
      "outputs": [
        {
          "output_type": "display_data",
          "data": {
            "text/plain": [
              "<Figure size 640x480 with 1 Axes>"
            ],
            "image/png": "[encoded data removed]"
          },
          "metadata": {}
        }
      ]
    },
    {
      "cell_type": "code",
      "source": [
        "# Extract the coefficients\n",
        "m = model.coef_[0]  # Slope\n",
        "b = model.intercept_  # Intercept\n",
        "\n",
        "print(\"Slope (m):\", m)\n",
        "print(\"Intercept (b):\", b)"
      ],
      "metadata": {
        "colab": {
          "base_uri": "https://localhost:8080/"
        },
        "id": "Wzo5nUjceThX",
        "outputId": "45ef824b-672d-4620-c67d-3141fe9a7d66"
      },
      "execution_count": 97,
      "outputs": [
        {
          "output_type": "stream",
          "name": "stdout",
          "text": [
            "Slope (m): 8731.941047062497\n",
            "Intercept (b): 28859.52619453144\n"
          ]
        }
      ]
    },
    {
      "cell_type": "code",
      "source": [
        "import numpy as np\n",
        "X_pred = np.array([[7.7]])\n",
        "\n",
        "# Make predictions\n",
        "prediction = model.predict(X_pred)\n",
        "prediction\n",
        "#check value by replacing y=mx+b using above slope and intercept"
      ],
      "metadata": {
        "colab": {
          "base_uri": "https://localhost:8080/"
        },
        "id": "_4OS5tZkep5V",
        "outputId": "11f9f31b-19aa-49f1-fd88-915a353e4d03"
      },
      "execution_count": 98,
      "outputs": [
        {
          "output_type": "execute_result",
          "data": {
            "text/plain": [
              "array([96095.47225691])"
            ]
          },
          "metadata": {},
          "execution_count": 98
        }
      ]
    },
    {
      "cell_type": "markdown",
      "source": [
        "But should we blindly trust this predictive model .Ofcourse we need a validation that this is the \"Best fit Line\" with given slope and intercept.\n",
        "\n",
        "We feel the need of a test data where we know actual values of target feature and then after prediction from given test inputs , we compare the values.\n",
        "\n",
        "So from where we get the test data.\n",
        "\n",
        "Earlier we used whole of the dataset to train the model and we are not left with any test data.\n",
        "\n",
        "This time we will divide given data into 2 parts - bigger chunk we will keep for \"training the model\" which will give us \"best fit line\" and smaller chunk we can keep as test data to validate how close are the actual values to predicted values\n",
        "\n",
        "Though you might have got intution by now what is \"training the model\" and what is \"best fit line\", we will talk about it in details in upcoming parts.\n",
        "\n",
        "So let's for now divide our datset into train and test data .How do we do that ? By using train_test split module from sklearn library.so let's do that and update previous code\n",
        "\n",
        "\n"
      ],
      "metadata": {
        "id": "HZXX45rgiOPr"
      }
    },
    {
      "cell_type": "code",
      "source": [
        "from sklearn.linear_model import LinearRegression\n",
        "from sklearn.model_selection import train_test_split\n",
        "\n",
        "model = LinearRegression()\n",
        "X = df.iloc[:, :-1].values #get a copy of dataset exclude last column\n",
        "y = df.iloc[:, 1].values #get array of dataset in column 1st\n",
        "#input features need to be in 2-D shappe\n",
        "X.shape\n",
        "\n",
        "#split the dataset into train and test data\n",
        "X_train,X_test,y_train,y_test=train_test_split(X,y,test_size=0.2,random_state=100)\n",
        "print(X_train.shape)\n",
        "print(X_test.shape)\n",
        "\n",
        "# total records -35-->0.2 of 35=7 is test data"
      ],
      "metadata": {
        "colab": {
          "base_uri": "https://localhost:8080/"
        },
        "id": "BmBnbK0Cj4Kk",
        "outputId": "854ad46e-1288-4e6c-e864-fe416b16d609"
      },
      "execution_count": 99,
      "outputs": [
        {
          "output_type": "stream",
          "name": "stdout",
          "text": [
            "(28, 1)\n",
            "(7, 1)\n"
          ]
        }
      ]
    },
    {
      "cell_type": "code",
      "source": [
        "#now let's train the model on train data\n",
        "model.fit(X_train,y_train)"
      ],
      "metadata": {
        "colab": {
          "base_uri": "https://localhost:8080/",
          "height": 74
        },
        "id": "xzIVfHcuk2AC",
        "outputId": "612df13c-dac4-4f51-fdd7-646e945db630"
      },
      "execution_count": 101,
      "outputs": [
        {
          "output_type": "execute_result",
          "data": {
            "text/plain": [
              "LinearRegression()"
            ],
            "text/html": [
              "<style>#sk-container-id-6 {color: black;background-color: white;}#sk-container-id-6 pre{padding: 0;}#sk-container-id-6 div.sk-toggleable {background-color: white;}#sk-container-id-6 label.sk-toggleable__label {cursor: pointer;display: block;width: 100%;margin-bottom: 0;padding: 0.3em;box-sizing: border-box;text-align: center;}#sk-container-id-6 label.sk-toggleable__label-arrow:before {content: \"▸\";float: left;margin-right: 0.25em;color: #696969;}#sk-container-id-6 label.sk-toggleable__label-arrow:hover:before {color: black;}#sk-container-id-6 div.sk-estimator:hover label.sk-toggleable__label-arrow:before {color: black;}#sk-container-id-6 div.sk-toggleable__content {max-height: 0;max-width: 0;overflow: hidden;text-align: left;background-color: #f0f8ff;}#sk-container-id-6 div.sk-toggleable__content pre {margin: 0.2em;color: black;border-radius: 0.25em;background-color: #f0f8ff;}#sk-container-id-6 input.sk-toggleable__control:checked~div.sk-toggleable__content {max-height: 200px;max-width: 100%;overflow: auto;}#sk-container-id-6 input.sk-toggleable__control:checked~label.sk-toggleable__label-arrow:before {content: \"▾\";}#sk-container-id-6 div.sk-estimator input.sk-toggleable__control:checked~label.sk-toggleable__label {background-color: #d4ebff;}#sk-container-id-6 div.sk-label input.sk-toggleable__control:checked~label.sk-toggleable__label {background-color: #d4ebff;}#sk-container-id-6 input.sk-hidden--visually {border: 0;clip: rect(1px 1px 1px 1px);clip: rect(1px, 1px, 1px, 1px);height: 1px;margin: -1px;overflow: hidden;padding: 0;position: absolute;width: 1px;}#sk-container-id-6 div.sk-estimator {font-family: monospace;background-color: #f0f8ff;border: 1px dotted black;border-radius: 0.25em;box-sizing: border-box;margin-bottom: 0.5em;}#sk-container-id-6 div.sk-estimator:hover {background-color: #d4ebff;}#sk-container-id-6 div.sk-parallel-item::after {content: \"\";width: 100%;border-bottom: 1px solid gray;flex-grow: 1;}#sk-container-id-6 div.sk-label:hover label.sk-toggleable__label {background-color: #d4ebff;}#sk-container-id-6 div.sk-serial::before {content: \"\";position: absolute;border-left: 1px solid gray;box-sizing: border-box;top: 0;bottom: 0;left: 50%;z-index: 0;}#sk-container-id-6 div.sk-serial {display: flex;flex-direction: column;align-items: center;background-color: white;padding-right: 0.2em;padding-left: 0.2em;position: relative;}#sk-container-id-6 div.sk-item {position: relative;z-index: 1;}#sk-container-id-6 div.sk-parallel {display: flex;align-items: stretch;justify-content: center;background-color: white;position: relative;}#sk-container-id-6 div.sk-item::before, #sk-container-id-6 div.sk-parallel-item::before {content: \"\";position: absolute;border-left: 1px solid gray;box-sizing: border-box;top: 0;bottom: 0;left: 50%;z-index: -1;}#sk-container-id-6 div.sk-parallel-item {display: flex;flex-direction: column;z-index: 1;position: relative;background-color: white;}#sk-container-id-6 div.sk-parallel-item:first-child::after {align-self: flex-end;width: 50%;}#sk-container-id-6 div.sk-parallel-item:last-child::after {align-self: flex-start;width: 50%;}#sk-container-id-6 div.sk-parallel-item:only-child::after {width: 0;}#sk-container-id-6 div.sk-dashed-wrapped {border: 1px dashed gray;margin: 0 0.4em 0.5em 0.4em;box-sizing: border-box;padding-bottom: 0.4em;background-color: white;}#sk-container-id-6 div.sk-label label {font-family: monospace;font-weight: bold;display: inline-block;line-height: 1.2em;}#sk-container-id-6 div.sk-label-container {text-align: center;}#sk-container-id-6 div.sk-container {/* jupyter's `normalize.less` sets `[hidden] { display: none; }` but bootstrap.min.css set `[hidden] { display: none !important; }` so we also need the `!important` here to be able to override the default hidden behavior on the sphinx rendered scikit-learn.org. See: https://github.com/scikit-learn/scikit-learn/issues/21755 */display: inline-block !important;position: relative;}#sk-container-id-6 div.sk-text-repr-fallback {display: none;}</style><div id=\"sk-container-id-6\" class=\"sk-top-container\"><div class=\"sk-text-repr-fallback\"><pre>LinearRegression()</pre><b>In a Jupyter environment, please rerun this cell to show the HTML representation or trust the notebook. <br />On GitHub, the HTML representation is unable to render, please try loading this page with nbviewer.org.</b></div><div class=\"sk-container\" hidden><div class=\"sk-item\"><div class=\"sk-estimator sk-toggleable\"><input class=\"sk-toggleable__control sk-hidden--visually\" id=\"sk-estimator-id-6\" type=\"checkbox\" checked><label for=\"sk-estimator-id-6\" class=\"sk-toggleable__label sk-toggleable__label-arrow\">LinearRegression</label><div class=\"sk-toggleable__content\"><pre>LinearRegression()</pre></div></div></div></div></div>"
            ]
          },
          "metadata": {},
          "execution_count": 101
        }
      ]
    },
    {
      "cell_type": "code",
      "source": [
        "#let's predict the values by providing input features of test data\n",
        "y_pred=model.predict(X_test)\n",
        "#we have 7 values for 7 records-->these are y_pred\n",
        "y_pred"
      ],
      "metadata": {
        "colab": {
          "base_uri": "https://localhost:8080/"
        },
        "id": "siLWrDKAlT3X",
        "outputId": "a609c708-f6dc-4f7e-cad4-c39d15af7c47"
      },
      "execution_count": 104,
      "outputs": [
        {
          "output_type": "execute_result",
          "data": {
            "text/plain": [
              "array([145190.21247692, 150708.3951762 , 132314.45284525,  53220.50082218,\n",
              "        38505.34695742,  64256.86622075,  80811.4143186 ])"
            ]
          },
          "metadata": {},
          "execution_count": 104
        }
      ]
    },
    {
      "cell_type": "code",
      "source": [
        "#let's pick first actual value of y and compare with predicted value\n",
        "y_test[0],y_pred[0],y_test[0]- y_pred[0]\n",
        "\n"
      ],
      "metadata": {
        "colab": {
          "base_uri": "https://localhost:8080/"
        },
        "id": "Hpe-fQnLlrNn",
        "outputId": "f1dc125a-8660-4de8-d777-c0d89cc58716"
      },
      "execution_count": 109,
      "outputs": [
        {
          "output_type": "execute_result",
          "data": {
            "text/plain": [
              "(135675, 145190.21247691818, -9515.212476918183)"
            ]
          },
          "metadata": {},
          "execution_count": 109
        }
      ]
    },
    {
      "cell_type": "code",
      "source": [
        "# let's compare all the values of y_test actual and predicted\n",
        "y_test"
      ],
      "metadata": {
        "colab": {
          "base_uri": "https://localhost:8080/"
        },
        "id": "uXL22ECsmEHp",
        "outputId": "b0c67d64-6802-4cf7-845d-6a777263430f"
      },
      "execution_count": 114,
      "outputs": [
        {
          "output_type": "execute_result",
          "data": {
            "text/plain": [
              "array([135675, 139465, 126756,  56642,  46205,  57081,  81363])"
            ]
          },
          "metadata": {},
          "execution_count": 114
        }
      ]
    },
    {
      "cell_type": "markdown",
      "source": [
        "Little bit on metrices -addition and subtraction operation here"
      ],
      "metadata": {
        "id": "vX_HE_YloZxo"
      }
    },
    {
      "cell_type": "code",
      "source": [
        "# Calculate the differences\n",
        "# since these are numpy arrays we can do direct calculation\n",
        "\n",
        "differences = y_pred - y_test\n",
        "\n",
        "# Print the differences\n",
        "for i, diff in enumerate(differences):\n",
        "    print(\"Difference for index {}: {}\".format(i, diff))"
      ],
      "metadata": {
        "colab": {
          "base_uri": "https://localhost:8080/"
        },
        "id": "DIiMOrRDmNCn",
        "outputId": "48484c8b-7fae-4731-b938-4b5f3b3d70bc"
      },
      "execution_count": 115,
      "outputs": [
        {
          "output_type": "stream",
          "name": "stdout",
          "text": [
            "Difference for index 0: 9515.212476918183\n",
            "Difference for index 1: 11243.395176202466\n",
            "Difference for index 2: 5558.452845254855\n",
            "Difference for index 3: -3421.4991778199474\n",
            "Difference for index 4: -7699.653042578051\n",
            "Difference for index 5: 7175.866220748627\n",
            "Difference for index 6: -551.585681398501\n"
          ]
        }
      ]
    },
    {
      "cell_type": "markdown",
      "source": [
        "Ok.so now we know how close or far actual values are from predicted value but still don't know if this is the best prediction so we just have to trust here until we know what is best fit line and gradient which we will be doing in sooner lectures but let's park it for now\n",
        "\n",
        "what we can do for now is we can come up with overall deviation or error this model is having.subsequently we will be talking about mean absolute error,mean squared error and cost function so let's stay tuned\n",
        "\n",
        "To understand these we will be taking very small hypothetical dataset of ... and then we will apply same in our salary dataset code.\n",
        "\n",
        "In this example we will take a subset of 10 datapoints from height and weight data from [here](https://homework.study.com/explanation/a-sample-of-10-adult-men-gave-the-following-data-on-their-heights-and-weights-height-inches-x-62-62-63-65-66-67-68-68-70-72-weight-pounds-y-120-140-130-150-142-130-135-175-149-168-a-predict-the-weight-of-a-man-whose-height-is-60-inches-b-find-a.html)\n",
        "\n",
        "Height (inches) X 62 62 63 65 66 67 68 68 70 72\n",
        "\n",
        "Weight (pounds) Y 120 140 130 150 142 130 135 175 149 168\n",
        "\n"
      ],
      "metadata": {
        "id": "_joA4ndTm7gu"
      }
    },
    {
      "cell_type": "code",
      "source": [],
      "metadata": {
        "id": "0RV40jutokLb"
      },
      "execution_count": null,
      "outputs": []
    },
    {
      "cell_type": "code",
      "source": [
        "import numpy as np\n",
        "import matplotlib.pyplot as plt\n",
        "from sklearn.model_selection import train_test_split\n",
        "from sklearn.linear_model import LinearRegression\n",
        "\n",
        "# Given data\n",
        "X = np.array([62, 62, 63, 65, 66, 67, 68, 68, 70, 72]).reshape(-1, 1)  # Height in inches\n",
        "y = np.array([120, 140, 130, 150, 142, 130, 135, 175, 149, 168])  # Weight in pounds\n",
        "\n",
        "# Split the data into training and testing sets\n",
        "X_train, X_test, y_train, y_test = train_test_split(X, y, test_size=0.2, random_state=42)\n",
        "\n",
        "# Create and fit the linear regression model using only the training data\n",
        "model = LinearRegression()\n",
        "model.fit(X_train, y_train)\n",
        "\n",
        "# Plot the training data points\n",
        "plt.scatter(X_train, y_train, color='blue', label='Training Data')\n",
        "\n",
        "# Plot the testing data points\n",
        "plt.scatter(X_test, y_test, color='green', label='Testing Data')\n",
        "\n",
        "# Plot the best fit line using the training data\n",
        "plt.plot(X_train, model.predict(X_train), color='red', label='Best Fit Line')\n",
        "\n",
        "# Add labels and legend\n",
        "plt.xlabel('Height (inches)')\n",
        "plt.ylabel('Weight (pounds)')\n",
        "plt.title('Height vs Weight')\n",
        "plt.legend()\n",
        "\n",
        "# Show plot\n",
        "plt.grid(True)\n",
        "plt.tight_layout()\n",
        "plt.show()\n",
        "print(y_test)\n"
      ],
      "metadata": {
        "colab": {
          "base_uri": "https://localhost:8080/",
          "height": 504
        },
        "id": "UDeFYoS_m6sr",
        "outputId": "a8c27888-ee48-4002-d758-2dda93a8dbb4"
      },
      "execution_count": 118,
      "outputs": [
        {
          "output_type": "display_data",
          "data": {
            "text/plain": [
              "<Figure size 640x480 with 1 Axes>"
            ],
            "image/png": "[encoded data removed]"
          },
          "metadata": {}
        },
        {
          "output_type": "stream",
          "name": "stdout",
          "text": [
            "[149 140]\n"
          ]
        }
      ]
    },
    {
      "cell_type": "markdown",
      "source": [
        "Calculate Error - MAE\n",
        "\n",
        "Error for data point 1-\n",
        "\n",
        "```\n",
        "y-actual - y-predicted=140-125=15\n",
        "\n",
        "# This is formatted as code\n",
        "```\n",
        "Error for data point 2-\n",
        "\n",
        "```\n",
        "y-actual - y-predicted=150-160=-10\n",
        "\n",
        "# This is formatted as code\n",
        "```\n",
        "\n",
        "For a given dataset, we evaluate linear regression model using MAE or MSE\n",
        "\n",
        "**MAE - Mean Absolute Value**\n",
        "\n",
        "MAE is calculated by taking the average of the absolute differences between the predicted values and the actual values.\n",
        "\n",
        "\n",
        "In this case:\n",
        "\n",
        "\n",
        "```\n",
        "\n",
        "MAE = (|15|+|-10|)/2\n",
        "```\n",
        "\n",
        "\n",
        "\n",
        "**Mean Squared Error (MSE)**\n",
        "\n",
        "MSE measures the average squared difference between the predicted values and the actual values.\n",
        "\n",
        "In this case:\n",
        "\n",
        "\n",
        "```\n",
        "\n",
        "MSE = ((15)^2+(-10)^2)/2\n",
        "```\n",
        "\n",
        "**MAE Vs MSE**\n",
        "\n",
        "Let's look at the mathmatical notion of both the values-rather I would say drive with me\n",
        "\n",
        "**MAE**\n",
        "It treats all errors equally regardless of their size, providing a more balanced view of the model's performance.\n",
        "\n",
        "It is more robust to outliers compared to MSE\n",
        "\n",
        "MAE is easier to interpret since it represents the average magnitude of errors in the same units as the target variable.\n",
        "\n",
        "**MSE**\n",
        "\n",
        "It penalizes larger errors more than smaller ones because it squares the errors.\n",
        "\n",
        "MSE is more sensitive to outliers compared to MAE because larger errors contribute more to the overall error.\n",
        "\n",
        "MSE is not as interpretable as MAE since it represents the average squared error, which may not be in the same units as the target variable.\n",
        "\n",
        "MSE is useful when you want to penalize larger errors more heavily, such as in cases where small errors are acceptable but large errors are not\n",
        "\n",
        "Now let's evaluate our model using Python by finding MAE and MSE\n",
        "\n"
      ],
      "metadata": {
        "id": "hohgRpVwTrb9"
      }
    },
    {
      "cell_type": "code",
      "source": [
        "import numpy as np\n",
        "import matplotlib.pyplot as plt\n",
        "from sklearn.model_selection import train_test_split\n",
        "from sklearn.linear_model import LinearRegression\n",
        "from sklearn.metrics import mean_absolute_error, mean_squared_error\n",
        "\n",
        "\n",
        "# Given data\n",
        "X = np.array([62, 62, 63, 65, 66, 67, 68, 68, 70, 72]).reshape(-1, 1)  # Height in inches\n",
        "y = np.array([120, 140, 130, 150, 142, 130, 135, 175, 149, 168])  # Weight in pounds\n",
        "\n",
        "# Split the data into training and testing sets\n",
        "X_train, X_test, y_train, y_test = train_test_split(X, y, test_size=0.2, random_state=42)\n",
        "\n",
        "# Create and fit the linear regression model using only the training data\n",
        "model = LinearRegression()\n",
        "model.fit(X_train, y_train)\n",
        "\n",
        "# # Plot the training data points\n",
        "# plt.scatter(X_train, y_train, color='blue', label='Training Data')\n",
        "\n",
        "# # Plot the testing data points\n",
        "# plt.scatter(X_test, y_test, color='green', label='Testing Data')\n",
        "\n",
        "# # Plot the best fit line using the training data\n",
        "# plt.plot(X_train, model.predict(X_train), color='red', label='Best Fit Line')\n",
        "\n",
        "# # Add labels and legend\n",
        "# plt.xlabel('Height (inches)')\n",
        "# plt.ylabel('Weight (pounds)')\n",
        "# plt.title('Height vs Weight')\n",
        "# plt.legend()\n",
        "\n",
        "# # Show plot\n",
        "# plt.grid(True)\n",
        "# plt.tight_layout()\n",
        "# plt.show()\n",
        "print(y_test)\n",
        "\n",
        "# Make predictions on the testing set\n",
        "y_pred = model.predict(X_test)\n",
        "\n",
        "# Calculate Mean Absolute Error (MAE)\n",
        "mae = mean_absolute_error(y_test, y_pred)\n",
        "\n",
        "# Calculate Mean Squared Error (MSE)\n",
        "mse = mean_squared_error(y_test, y_pred)\n",
        "\n",
        "print(\"Mean Absolute Error (MAE):\", mae)\n",
        "print(\"Mean Squared Error (MSE):\", mse)"
      ],
      "metadata": {
        "colab": {
          "base_uri": "https://localhost:8080/"
        },
        "id": "ZAc20LzDW5Vx",
        "outputId": "7d69ec6d-161d-452c-f1a2-17a3d11531b7"
      },
      "execution_count": 119,
      "outputs": [
        {
          "output_type": "stream",
          "name": "stdout",
          "text": [
            "[149 140]\n",
            "Mean Absolute Error (MAE): 13.059928443649369\n",
            "Mean Squared Error (MSE): 176.30371286574223\n"
          ]
        }
      ]
    },
    {
      "cell_type": "markdown",
      "source": [
        "**Assignment** - Find MAE and MSE for linear regression model created using salary dataset"
      ],
      "metadata": {
        "id": "3SpRHcfxXVaK"
      }
    },
    {
      "cell_type": "markdown",
      "source": [
        "# Partial Derivatives\n",
        "\n",
        "Before we talk about cost function and gradient , we need to do little maths by learning bit about derivatives\n",
        "\n",
        "Reference Link: [Maths is fun](https://www.mathsisfun.com/calculus/derivatives-partial.html)\n",
        "\n",
        "So what is derivative ?\n",
        "\n",
        "The Derivative tells us the slope of a function at any point\n",
        "let's validate by drawing these lines\n",
        "one example in linear equation y=2x+3 -> derivative is 2\n",
        "\n",
        "In equation y=2->slope is 0\n",
        "\n",
        "for equation which include term like square of x like x^2 - derivative is 2x\n",
        "\n",
        "This is in accordance with power rule\n",
        "\n",
        "```\n",
        "Power Rule:\tx^n=\tnx^(n−1)\n",
        "```\n",
        "\n"
      ],
      "metadata": {
        "id": "x7m_JBsZXojX"
      }
    },
    {
      "cell_type": "markdown",
      "source": [
        "# Cost Function and Gradient"
      ],
      "metadata": {
        "id": "1IpIVCHhX3AX"
      }
    }
  ]
}