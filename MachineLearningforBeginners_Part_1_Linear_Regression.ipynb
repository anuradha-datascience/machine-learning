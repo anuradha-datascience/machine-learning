{
  "nbformat": 4,
  "nbformat_minor": 0,
  "metadata": {
    "colab": {
      "provenance": [],
      "authorship_tag": "ABX9TyPXL4RlZk7Etz9DbbRXqkbQ",
      "include_colab_link": true
    },
    "kernelspec": {
      "name": "python3",
      "display_name": "Python 3"
    },
    "language_info": {
      "name": "python"
    }
  },
  "cells": [
    {
      "cell_type": "markdown",
      "metadata": {
        "id": "view-in-github",
        "colab_type": "text"
      },
      "source": [
        "<a href=\"https://colab.research.google.com/github/anuradha-datascience/machine-learning/blob/main/MachineLearningforBeginners_Part_1_Linear_Regression.ipynb\" target=\"_parent\"><img src=\"https://colab.research.google.com/assets/colab-badge.svg\" alt=\"Open In Colab\"/></a>"
      ]
    },
    {
      "cell_type": "code",
      "source": [],
      "metadata": {
        "id": "t0o9qcfKKM9Y"
      },
      "execution_count": null,
      "outputs": []
    },
    {
      "cell_type": "markdown",
      "source": [
        "Let's solve a basic maths problem:\n",
        "suppose you go to market one day and find the melons of different sizes and weights\n",
        "\n",
        "melon_data = [(1, 2), (2, 4), (3, 6),(4, 8), (5, 10]\n",
        "\n",
        "melon_price=2*melon_wt\n",
        "\n",
        "let's say if any basic tax is given of $2 is given on top of price, equation becomes\n",
        "\n",
        "melon_price=2*melon_wt+2\n",
        "\n",
        "If I ask you the price of melon weighted 20 kg, you will substitute in equation:\n",
        "\n",
        "melon_price_20=2*20+2\n",
        "\n",
        "We can also draw a graph with and without tax .We can predict value from the line.\n",
        "\n",
        "Linear equation in general be written as\n",
        "\n",
        "y=mx+b\n",
        "\n",
        "m-> slope or weight\n",
        "\n",
        "b-> bias\n",
        "\n",
        "x, y are variables are\n",
        "\n",
        "when we are using it for machine learning, y is dependent variable(dependent on x in this case like melon price is dependendent on melon weight) or predicted variable or label or target variable or the variable\n",
        "x is independent variable or feature\n",
        "\n",
        "There can be cases where melon price has more than one features or factors on which price may depend like size of melon or lets say temperature, in that case equation may become like this:\n",
        "\n",
        "\n",
        "melon_price=2*melon_wt+ 0.1*melon_size 2 - 0.4*temp+2(remember basic tax)\n",
        "\n",
        "y=m1x1+m2x2+m3x3+b\n",
        "\n",
        "\n",
        "\n",
        "\n",
        "\n",
        "\n",
        "\n",
        "\n"
      ],
      "metadata": {
        "id": "lwXpyhDjKh7M"
      }
    },
    {
      "cell_type": "code",
      "source": [],
      "metadata": {
        "id": "ANE5KKRZKYOp"
      },
      "execution_count": null,
      "outputs": []
    },
    {
      "cell_type": "code",
      "execution_count": 2,
      "metadata": {
        "id": "m4Y1vMwgk3-h"
      },
      "outputs": [],
      "source": [
        "melon_data = [(1, 50), (2, 100), (3, 150), (4, 180), (5, 220), (6, 250), (7, 300), (8, 340), (9, 380), (10, 390)]"
      ]
    },
    {
      "cell_type": "code",
      "source": [
        "import pandas as pd\n",
        "\n",
        "# Convert dictionary to DataFrame\n",
        "df = pd.DataFrame(melon_data,columns=[\"melon_weight\", \"price\"])\n",
        "\n",
        "# Display the DataFrame\n",
        "print(df)"
      ],
      "metadata": {
        "colab": {
          "base_uri": "https://localhost:8080/"
        },
        "id": "9orFEl8_mtcZ",
        "outputId": "ab6eb97b-3013-4ad3-8d3f-aecf2abf3b72"
      },
      "execution_count": 11,
      "outputs": [
        {
          "output_type": "stream",
          "name": "stdout",
          "text": [
            "   melon_weight  price\n",
            "0             1     50\n",
            "1             2    100\n",
            "2             3    140\n",
            "3             4    180\n",
            "4             5    220\n",
            "5             6    250\n",
            "6             7    300\n",
            "7             8    340\n",
            "8             9    380\n",
            "9            10    390\n"
          ]
        }
      ]
    },
    {
      "cell_type": "code",
      "source": [
        "df.info()"
      ],
      "metadata": {
        "colab": {
          "base_uri": "https://localhost:8080/"
        },
        "id": "gJF0mmkMnqDD",
        "outputId": "3937ce6b-9915-41b1-b96c-0ec037d9d5ce"
      },
      "execution_count": 12,
      "outputs": [
        {
          "output_type": "stream",
          "name": "stdout",
          "text": [
            "<class 'pandas.core.frame.DataFrame'>\n",
            "RangeIndex: 10 entries, 0 to 9\n",
            "Data columns (total 2 columns):\n",
            " #   Column        Non-Null Count  Dtype\n",
            "---  ------        --------------  -----\n",
            " 0   melon_weight  10 non-null     int64\n",
            " 1   price         10 non-null     int64\n",
            "dtypes: int64(2)\n",
            "memory usage: 288.0 bytes\n"
          ]
        }
      ]
    },
    {
      "cell_type": "code",
      "source": [],
      "metadata": {
        "id": "Ejxc8FSZn1xO"
      },
      "execution_count": null,
      "outputs": []
    }
  ]
}