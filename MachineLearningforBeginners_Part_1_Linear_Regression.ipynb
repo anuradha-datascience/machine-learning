{
  "nbformat": 4,
  "nbformat_minor": 0,
  "metadata": {
    "colab": {
      "provenance": [],
      "gpuType": "T4",
      "authorship_tag": "ABX9TyPGOmIs965fWDL6fonxegB2",
      "include_colab_link": true
    },
    "kernelspec": {
      "name": "python3",
      "display_name": "Python 3"
    },
    "language_info": {
      "name": "python"
    },
    "accelerator": "GPU"
  },
  "cells": [
    {
      "cell_type": "markdown",
      "metadata": {
        "id": "view-in-github",
        "colab_type": "text"
      },
      "source": [
        "<a href=\"https://colab.research.google.com/github/anuradha-datascience/machine-learning/blob/main/MachineLearningforBeginners_Part_1_Linear_Regression.ipynb\" target=\"_parent\"><img src=\"https://colab.research.google.com/assets/colab-badge.svg\" alt=\"Open In Colab\"/></a>"
      ]
    },
    {
      "cell_type": "code",
      "source": [],
      "metadata": {
        "id": "aqG8YoPQGvmG"
      },
      "execution_count": null,
      "outputs": []
    },
    {
      "cell_type": "markdown",
      "source": [],
      "metadata": {
        "id": "ooKySR2NCBpi"
      }
    },
    {
      "cell_type": "markdown",
      "source": [
        "# Machine Learning - **Topics**\n",
        "\n",
        "1. Introduction - ML, Types,SL,UL, Regression , Classification\n",
        "\n",
        "What will be the approach to learn\n",
        "\n",
        "Maths ?\n",
        "\n",
        "Python ?\n",
        "\n",
        "2. Weight , Bias , Feature(Slope, intercept, target and independent variable)\n",
        "\n",
        "3. Linear Regression Problem - Supervised Learning Regression Problem\n",
        "\n",
        "4. Error - Predicted Vs Tested Value\n",
        "\n",
        "5. A little maths on derivative\n",
        "\n",
        "7. Gradient Descent and Cost Function\n",
        "\n",
        "8. Logistic Regression - Solving Supervised Learning Classification problem\n",
        "\n",
        "9. Performance Evaluation\n",
        "\n",
        "\n"
      ],
      "metadata": {
        "id": "8ud19jCqCbOK"
      }
    },
    {
      "cell_type": "markdown",
      "source": [
        "# Machine Learning - Introduction"
      ],
      "metadata": {
        "id": "1E4kDeaZFklX"
      }
    },
    {
      "cell_type": "code",
      "source": [],
      "metadata": {
        "id": "t0o9qcfKKM9Y"
      },
      "execution_count": null,
      "outputs": []
    },
    {
      "cell_type": "markdown",
      "source": [
        "# Features, Weights and Bias\n"
      ],
      "metadata": {
        "id": "41NkGklaCESE"
      }
    },
    {
      "cell_type": "markdown",
      "source": [
        "Let's solve a basic maths problem:\n",
        "suppose you go to supermarket one day and find the melons of different sizes and weights\n",
        "\n",
        "melon_data = [(1, 2), (2, 4), (3, 6),(4, 8), (5, 10]\n",
        "\n",
        "melon_price=2*melon_wt\n",
        "\n",
        "let's say  you need to pay parking of the place as $2 weather you buy or not\n",
        "\n",
        "\n",
        "melon_price=2*melon_wt+2\n",
        "\n",
        "If I ask you the price of melon weighted 20 kg, you will substitute in equation:\n",
        "\n",
        "melon_price_20=2*20+2\n",
        "\n",
        "We can also draw a graph with and without tax .We can predict value from the line.\n",
        "\n",
        "\n",
        "\n",
        "\n",
        "\n",
        "\n"
      ],
      "metadata": {
        "id": "lwXpyhDjKh7M"
      }
    },
    {
      "cell_type": "code",
      "source": [
        "import matplotlib.pyplot as plt\n",
        "\n",
        "# Sample list of tuples containing coordinates\n",
        "coordinates = [(1, 2), (2, 4), (3, 6), (4, 8), (5, 10)]\n",
        "\n",
        "# Extract x and y coordinates from the list of tuples\n",
        "x_values = [coord[0] for coord in coordinates]\n",
        "y_values = [coord[1] for coord in coordinates]\n",
        "\n",
        "# Plot the points\n",
        "plt.plot(x_values, y_values, marker='o', linestyle='', markersize=8)\n",
        "\n",
        "# Draw lines connecting the points\n",
        "plt.plot(x_values, y_values, linestyle='-', marker='')\n",
        "\n",
        "# Add labels and title\n",
        "# Customize x-ticks to display integers\n",
        "plt.xticks(range(min(x_values), max(x_values)+10))\n",
        "plt.yticks(range(min(y_values), max(x_values)+15))\n",
        "\n",
        "# Add labels and title\n",
        "plt.xlabel('Melon Weight')\n",
        "plt.ylabel('Melon Price')\n",
        "plt.title('Melon Wt Vs Price')\n",
        "# Show the plot\n",
        "plt.grid(True)\n",
        "plt.show()"
      ],
      "metadata": {
        "id": "ANE5KKRZKYOp",
        "colab": {
          "base_uri": "https://localhost:8080/",
          "height": 472
        },
        "outputId": "e6b7c428-7673-4cde-bc3a-871ff2db524a"
      },
      "execution_count": null,
      "outputs": [
        {
          "output_type": "display_data",
          "data": {
            "text/plain": [
              "<Figure size 640x480 with 1 Axes>"
            ],
            "image/png": "[encoded data removed]"
          },
          "metadata": {}
        }
      ]
    },
    {
      "cell_type": "markdown",
      "source": [
        "[Inspiration: Towards Data Science](https://towardsdatascience.com/machine-learning-simple-linear-regression-with-python-f04ecfdadc13)\n",
        "\n",
        "Linear equation in general be written as\n",
        "\n",
        "y=mx+b\n",
        "\n",
        "m-> slope or weight\n",
        "\n",
        "b-> bias\n",
        "\n",
        "x, y are variables are\n",
        "\n",
        "when we are using it for machine learning, y is dependent variable(dependent on x in this case like melon price is dependendent on melon weight) or predicted variable or label or target variable or the variable\n",
        "x is independent variable or feature\n",
        "\n",
        "\n",
        "\n",
        "Now let's take some real life scenario where outcome/target variable is dependent on input feature but not with such a simple equation\n",
        "\n",
        "\n",
        "\n",
        "[Salary Data Set](https://www.kaggle.com/datasets/anninasimon/employee-salary-dataset)\n",
        "\n",
        "\n",
        "\n",
        "\n"
      ],
      "metadata": {
        "id": "1gfdhXiOeFTj"
      }
    },
    {
      "cell_type": "code",
      "execution_count": null,
      "metadata": {
        "id": "m4Y1vMwgk3-h"
      },
      "outputs": [],
      "source": []
    },
    {
      "cell_type": "markdown",
      "source": [],
      "metadata": {
        "id": "NxXmQMHdeeyO"
      }
    },
    {
      "cell_type": "code",
      "source": [
        "import pandas as pd\n",
        "\n",
        "# Convert dictionary to DataFrame\n",
        "df = pd.DataFrame(melon_data,columns=[\"melon_weight\", \"price\"])\n",
        "\n",
        "# Display the DataFrame\n",
        "print(df)"
      ],
      "metadata": {
        "colab": {
          "base_uri": "https://localhost:8080/"
        },
        "id": "9orFEl8_mtcZ",
        "outputId": "ab6eb97b-3013-4ad3-8d3f-aecf2abf3b72"
      },
      "execution_count": null,
      "outputs": [
        {
          "output_type": "stream",
          "name": "stdout",
          "text": [
            "   melon_weight  price\n",
            "0             1     50\n",
            "1             2    100\n",
            "2             3    140\n",
            "3             4    180\n",
            "4             5    220\n",
            "5             6    250\n",
            "6             7    300\n",
            "7             8    340\n",
            "8             9    380\n",
            "9            10    390\n"
          ]
        }
      ]
    },
    {
      "cell_type": "code",
      "source": [
        "df.info()"
      ],
      "metadata": {
        "colab": {
          "base_uri": "https://localhost:8080/"
        },
        "id": "gJF0mmkMnqDD",
        "outputId": "3937ce6b-9915-41b1-b96c-0ec037d9d5ce"
      },
      "execution_count": null,
      "outputs": [
        {
          "output_type": "stream",
          "name": "stdout",
          "text": [
            "<class 'pandas.core.frame.DataFrame'>\n",
            "RangeIndex: 10 entries, 0 to 9\n",
            "Data columns (total 2 columns):\n",
            " #   Column        Non-Null Count  Dtype\n",
            "---  ------        --------------  -----\n",
            " 0   melon_weight  10 non-null     int64\n",
            " 1   price         10 non-null     int64\n",
            "dtypes: int64(2)\n",
            "memory usage: 288.0 bytes\n"
          ]
        }
      ]
    },
    {
      "cell_type": "code",
      "source": [],
      "metadata": {
        "id": "Ejxc8FSZn1xO"
      },
      "execution_count": null,
      "outputs": []
    }
  ]
}